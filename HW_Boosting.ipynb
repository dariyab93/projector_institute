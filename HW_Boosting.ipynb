{
 "cells": [
  {
   "cell_type": "markdown",
   "id": "c68cbcab-dabf-4288-8d32-7fae15648b7f",
   "metadata": {},
   "source": [
    "## Boosting"
   ]
  },
  {
   "cell_type": "code",
   "execution_count": 2,
   "id": "295bb8ed-d1d0-4945-b81d-83d9a9d5deb1",
   "metadata": {},
   "outputs": [],
   "source": [
    "import warnings\n",
    "warnings.filterwarnings('ignore')\n",
    "import numpy as np\n",
    "import pandas as pd\n",
    "import seaborn as sns\n",
    "from matplotlib import pyplot as plt\n",
    "\n",
    "%matplotlib inline"
   ]
  },
  {
   "cell_type": "code",
   "execution_count": 3,
   "id": "f0b8e0e5-206f-48c9-b980-3d8f00444b4b",
   "metadata": {},
   "outputs": [
    {
     "data": {
      "text/html": [
       "<div>\n",
       "<style scoped>\n",
       "    .dataframe tbody tr th:only-of-type {\n",
       "        vertical-align: middle;\n",
       "    }\n",
       "\n",
       "    .dataframe tbody tr th {\n",
       "        vertical-align: top;\n",
       "    }\n",
       "\n",
       "    .dataframe thead th {\n",
       "        text-align: right;\n",
       "    }\n",
       "</style>\n",
       "<table border=\"1\" class=\"dataframe\">\n",
       "  <thead>\n",
       "    <tr style=\"text-align: right;\">\n",
       "      <th></th>\n",
       "      <th>PassengerId</th>\n",
       "      <th>Survived</th>\n",
       "      <th>Pclass</th>\n",
       "      <th>Name</th>\n",
       "      <th>Sex</th>\n",
       "      <th>Age</th>\n",
       "      <th>SibSp</th>\n",
       "      <th>Parch</th>\n",
       "      <th>Ticket</th>\n",
       "      <th>Fare</th>\n",
       "      <th>Cabin</th>\n",
       "      <th>Embarked</th>\n",
       "    </tr>\n",
       "  </thead>\n",
       "  <tbody>\n",
       "    <tr>\n",
       "      <th>0</th>\n",
       "      <td>1</td>\n",
       "      <td>0</td>\n",
       "      <td>3</td>\n",
       "      <td>Braund, Mr. Owen Harris</td>\n",
       "      <td>male</td>\n",
       "      <td>22.0</td>\n",
       "      <td>1</td>\n",
       "      <td>0</td>\n",
       "      <td>A/5 21171</td>\n",
       "      <td>7.2500</td>\n",
       "      <td>NaN</td>\n",
       "      <td>S</td>\n",
       "    </tr>\n",
       "    <tr>\n",
       "      <th>1</th>\n",
       "      <td>2</td>\n",
       "      <td>1</td>\n",
       "      <td>1</td>\n",
       "      <td>Cumings, Mrs. John Bradley (Florence Briggs Th...</td>\n",
       "      <td>female</td>\n",
       "      <td>38.0</td>\n",
       "      <td>1</td>\n",
       "      <td>0</td>\n",
       "      <td>PC 17599</td>\n",
       "      <td>71.2833</td>\n",
       "      <td>C85</td>\n",
       "      <td>C</td>\n",
       "    </tr>\n",
       "    <tr>\n",
       "      <th>2</th>\n",
       "      <td>3</td>\n",
       "      <td>1</td>\n",
       "      <td>3</td>\n",
       "      <td>Heikkinen, Miss. Laina</td>\n",
       "      <td>female</td>\n",
       "      <td>26.0</td>\n",
       "      <td>0</td>\n",
       "      <td>0</td>\n",
       "      <td>STON/O2. 3101282</td>\n",
       "      <td>7.9250</td>\n",
       "      <td>NaN</td>\n",
       "      <td>S</td>\n",
       "    </tr>\n",
       "    <tr>\n",
       "      <th>3</th>\n",
       "      <td>4</td>\n",
       "      <td>1</td>\n",
       "      <td>1</td>\n",
       "      <td>Futrelle, Mrs. Jacques Heath (Lily May Peel)</td>\n",
       "      <td>female</td>\n",
       "      <td>35.0</td>\n",
       "      <td>1</td>\n",
       "      <td>0</td>\n",
       "      <td>113803</td>\n",
       "      <td>53.1000</td>\n",
       "      <td>C123</td>\n",
       "      <td>S</td>\n",
       "    </tr>\n",
       "    <tr>\n",
       "      <th>4</th>\n",
       "      <td>5</td>\n",
       "      <td>0</td>\n",
       "      <td>3</td>\n",
       "      <td>Allen, Mr. William Henry</td>\n",
       "      <td>male</td>\n",
       "      <td>35.0</td>\n",
       "      <td>0</td>\n",
       "      <td>0</td>\n",
       "      <td>373450</td>\n",
       "      <td>8.0500</td>\n",
       "      <td>NaN</td>\n",
       "      <td>S</td>\n",
       "    </tr>\n",
       "  </tbody>\n",
       "</table>\n",
       "</div>"
      ],
      "text/plain": [
       "   PassengerId  Survived  Pclass  \\\n",
       "0            1         0       3   \n",
       "1            2         1       1   \n",
       "2            3         1       3   \n",
       "3            4         1       1   \n",
       "4            5         0       3   \n",
       "\n",
       "                                                Name     Sex   Age  SibSp  \\\n",
       "0                            Braund, Mr. Owen Harris    male  22.0      1   \n",
       "1  Cumings, Mrs. John Bradley (Florence Briggs Th...  female  38.0      1   \n",
       "2                             Heikkinen, Miss. Laina  female  26.0      0   \n",
       "3       Futrelle, Mrs. Jacques Heath (Lily May Peel)  female  35.0      1   \n",
       "4                           Allen, Mr. William Henry    male  35.0      0   \n",
       "\n",
       "   Parch            Ticket     Fare Cabin Embarked  \n",
       "0      0         A/5 21171   7.2500   NaN        S  \n",
       "1      0          PC 17599  71.2833   C85        C  \n",
       "2      0  STON/O2. 3101282   7.9250   NaN        S  \n",
       "3      0            113803  53.1000  C123        S  \n",
       "4      0            373450   8.0500   NaN        S  "
      ]
     },
     "execution_count": 3,
     "metadata": {},
     "output_type": "execute_result"
    }
   ],
   "source": [
    "#Using the titanic dataset \n",
    "train = pd.read_csv('/Users/dariyab/Desktop/projector/ML/Decision Trees /titanic/train.csv')\n",
    "train.shape\n",
    "train.head() "
   ]
  },
  {
   "cell_type": "code",
   "execution_count": 4,
   "id": "56fc764d-44a5-433d-aca0-82880dcafe80",
   "metadata": {},
   "outputs": [
    {
     "data": {
      "text/html": [
       "<div>\n",
       "<style scoped>\n",
       "    .dataframe tbody tr th:only-of-type {\n",
       "        vertical-align: middle;\n",
       "    }\n",
       "\n",
       "    .dataframe tbody tr th {\n",
       "        vertical-align: top;\n",
       "    }\n",
       "\n",
       "    .dataframe thead th {\n",
       "        text-align: right;\n",
       "    }\n",
       "</style>\n",
       "<table border=\"1\" class=\"dataframe\">\n",
       "  <thead>\n",
       "    <tr style=\"text-align: right;\">\n",
       "      <th></th>\n",
       "      <th>Sex</th>\n",
       "      <th>Survived</th>\n",
       "    </tr>\n",
       "  </thead>\n",
       "  <tbody>\n",
       "    <tr>\n",
       "      <th>0</th>\n",
       "      <td>female</td>\n",
       "      <td>0.742038</td>\n",
       "    </tr>\n",
       "    <tr>\n",
       "      <th>1</th>\n",
       "      <td>male</td>\n",
       "      <td>0.188908</td>\n",
       "    </tr>\n",
       "  </tbody>\n",
       "</table>\n",
       "</div>"
      ],
      "text/plain": [
       "      Sex  Survived\n",
       "0  female  0.742038\n",
       "1    male  0.188908"
      ]
     },
     "execution_count": 4,
     "metadata": {},
     "output_type": "execute_result"
    }
   ],
   "source": [
    "#Compare survival rates between men and women\n",
    "train[['Sex','Survived']].groupby(['Sex'], as_index=False).mean().sort_values(by='Survived', ascending=False)\n"
   ]
  },
  {
   "cell_type": "code",
   "execution_count": 5,
   "id": "c622be8a-4cef-42a9-946f-8bcb10e0bad7",
   "metadata": {},
   "outputs": [
    {
     "data": {
      "text/html": [
       "<div>\n",
       "<style scoped>\n",
       "    .dataframe tbody tr th:only-of-type {\n",
       "        vertical-align: middle;\n",
       "    }\n",
       "\n",
       "    .dataframe tbody tr th {\n",
       "        vertical-align: top;\n",
       "    }\n",
       "\n",
       "    .dataframe thead th {\n",
       "        text-align: right;\n",
       "    }\n",
       "</style>\n",
       "<table border=\"1\" class=\"dataframe\">\n",
       "  <thead>\n",
       "    <tr style=\"text-align: right;\">\n",
       "      <th></th>\n",
       "      <th>Pclass</th>\n",
       "      <th>Survived</th>\n",
       "    </tr>\n",
       "  </thead>\n",
       "  <tbody>\n",
       "    <tr>\n",
       "      <th>0</th>\n",
       "      <td>1</td>\n",
       "      <td>0.629630</td>\n",
       "    </tr>\n",
       "    <tr>\n",
       "      <th>1</th>\n",
       "      <td>2</td>\n",
       "      <td>0.472826</td>\n",
       "    </tr>\n",
       "    <tr>\n",
       "      <th>2</th>\n",
       "      <td>3</td>\n",
       "      <td>0.242363</td>\n",
       "    </tr>\n",
       "  </tbody>\n",
       "</table>\n",
       "</div>"
      ],
      "text/plain": [
       "   Pclass  Survived\n",
       "0       1  0.629630\n",
       "1       2  0.472826\n",
       "2       3  0.242363"
      ]
     },
     "execution_count": 5,
     "metadata": {},
     "output_type": "execute_result"
    }
   ],
   "source": [
    "#Compare survival rates between passanger classes \n",
    "train[['Pclass','Survived']].groupby(['Pclass'], as_index = False).mean().sort_values(by = 'Survived', ascending = False)"
   ]
  },
  {
   "cell_type": "code",
   "execution_count": 8,
   "id": "9ba22032-435c-4cfe-99ab-d6f98747739b",
   "metadata": {},
   "outputs": [],
   "source": [
    "#Preprocessing Data\n",
    "#Selecting features\n",
    "features = ['Pclass', 'Sex', 'Age', 'SibSp', 'Parch', 'Fare']\n",
    "X = train[features] #our features\n",
    "y = train['Survived'] # the column we're trying to predict"
   ]
  },
  {
   "cell_type": "code",
   "execution_count": 9,
   "id": "2c36f36e-91db-4ef2-a30c-2114558780a6",
   "metadata": {},
   "outputs": [
    {
     "data": {
      "text/html": [
       "<div>\n",
       "<style scoped>\n",
       "    .dataframe tbody tr th:only-of-type {\n",
       "        vertical-align: middle;\n",
       "    }\n",
       "\n",
       "    .dataframe tbody tr th {\n",
       "        vertical-align: top;\n",
       "    }\n",
       "\n",
       "    .dataframe thead th {\n",
       "        text-align: right;\n",
       "    }\n",
       "</style>\n",
       "<table border=\"1\" class=\"dataframe\">\n",
       "  <thead>\n",
       "    <tr style=\"text-align: right;\">\n",
       "      <th></th>\n",
       "      <th>Pclass</th>\n",
       "      <th>Sex</th>\n",
       "      <th>Age</th>\n",
       "      <th>SibSp</th>\n",
       "      <th>Parch</th>\n",
       "      <th>Fare</th>\n",
       "    </tr>\n",
       "  </thead>\n",
       "  <tbody>\n",
       "    <tr>\n",
       "      <th>0</th>\n",
       "      <td>3</td>\n",
       "      <td>male</td>\n",
       "      <td>22.0</td>\n",
       "      <td>1</td>\n",
       "      <td>0</td>\n",
       "      <td>7.2500</td>\n",
       "    </tr>\n",
       "    <tr>\n",
       "      <th>1</th>\n",
       "      <td>1</td>\n",
       "      <td>female</td>\n",
       "      <td>38.0</td>\n",
       "      <td>1</td>\n",
       "      <td>0</td>\n",
       "      <td>71.2833</td>\n",
       "    </tr>\n",
       "    <tr>\n",
       "      <th>2</th>\n",
       "      <td>3</td>\n",
       "      <td>female</td>\n",
       "      <td>26.0</td>\n",
       "      <td>0</td>\n",
       "      <td>0</td>\n",
       "      <td>7.9250</td>\n",
       "    </tr>\n",
       "    <tr>\n",
       "      <th>3</th>\n",
       "      <td>1</td>\n",
       "      <td>female</td>\n",
       "      <td>35.0</td>\n",
       "      <td>1</td>\n",
       "      <td>0</td>\n",
       "      <td>53.1000</td>\n",
       "    </tr>\n",
       "    <tr>\n",
       "      <th>4</th>\n",
       "      <td>3</td>\n",
       "      <td>male</td>\n",
       "      <td>35.0</td>\n",
       "      <td>0</td>\n",
       "      <td>0</td>\n",
       "      <td>8.0500</td>\n",
       "    </tr>\n",
       "    <tr>\n",
       "      <th>...</th>\n",
       "      <td>...</td>\n",
       "      <td>...</td>\n",
       "      <td>...</td>\n",
       "      <td>...</td>\n",
       "      <td>...</td>\n",
       "      <td>...</td>\n",
       "    </tr>\n",
       "    <tr>\n",
       "      <th>886</th>\n",
       "      <td>2</td>\n",
       "      <td>male</td>\n",
       "      <td>27.0</td>\n",
       "      <td>0</td>\n",
       "      <td>0</td>\n",
       "      <td>13.0000</td>\n",
       "    </tr>\n",
       "    <tr>\n",
       "      <th>887</th>\n",
       "      <td>1</td>\n",
       "      <td>female</td>\n",
       "      <td>19.0</td>\n",
       "      <td>0</td>\n",
       "      <td>0</td>\n",
       "      <td>30.0000</td>\n",
       "    </tr>\n",
       "    <tr>\n",
       "      <th>888</th>\n",
       "      <td>3</td>\n",
       "      <td>female</td>\n",
       "      <td>28.0</td>\n",
       "      <td>1</td>\n",
       "      <td>2</td>\n",
       "      <td>23.4500</td>\n",
       "    </tr>\n",
       "    <tr>\n",
       "      <th>889</th>\n",
       "      <td>1</td>\n",
       "      <td>male</td>\n",
       "      <td>26.0</td>\n",
       "      <td>0</td>\n",
       "      <td>0</td>\n",
       "      <td>30.0000</td>\n",
       "    </tr>\n",
       "    <tr>\n",
       "      <th>890</th>\n",
       "      <td>3</td>\n",
       "      <td>male</td>\n",
       "      <td>32.0</td>\n",
       "      <td>0</td>\n",
       "      <td>0</td>\n",
       "      <td>7.7500</td>\n",
       "    </tr>\n",
       "  </tbody>\n",
       "</table>\n",
       "<p>891 rows × 6 columns</p>\n",
       "</div>"
      ],
      "text/plain": [
       "     Pclass     Sex   Age  SibSp  Parch     Fare\n",
       "0         3    male  22.0      1      0   7.2500\n",
       "1         1  female  38.0      1      0  71.2833\n",
       "2         3  female  26.0      0      0   7.9250\n",
       "3         1  female  35.0      1      0  53.1000\n",
       "4         3    male  35.0      0      0   8.0500\n",
       "..      ...     ...   ...    ...    ...      ...\n",
       "886       2    male  27.0      0      0  13.0000\n",
       "887       1  female  19.0      0      0  30.0000\n",
       "888       3  female  28.0      1      2  23.4500\n",
       "889       1    male  26.0      0      0  30.0000\n",
       "890       3    male  32.0      0      0   7.7500\n",
       "\n",
       "[891 rows x 6 columns]"
      ]
     },
     "execution_count": 9,
     "metadata": {},
     "output_type": "execute_result"
    }
   ],
   "source": [
    "#Filling missing values for some feature columns with the median of those columns. Robust to ouliers. \n",
    "X['Age'].fillna(X['Age'].median(), inplace = True) \n",
    "X['Fare'].fillna(X['Fare'].median(), inplace = True)\n",
    "X"
   ]
  },
  {
   "cell_type": "code",
   "execution_count": 10,
   "id": "4aa7a334-6c22-4283-9496-8e7375a5dc63",
   "metadata": {},
   "outputs": [
    {
     "data": {
      "text/html": [
       "<div>\n",
       "<style scoped>\n",
       "    .dataframe tbody tr th:only-of-type {\n",
       "        vertical-align: middle;\n",
       "    }\n",
       "\n",
       "    .dataframe tbody tr th {\n",
       "        vertical-align: top;\n",
       "    }\n",
       "\n",
       "    .dataframe thead th {\n",
       "        text-align: right;\n",
       "    }\n",
       "</style>\n",
       "<table border=\"1\" class=\"dataframe\">\n",
       "  <thead>\n",
       "    <tr style=\"text-align: right;\">\n",
       "      <th></th>\n",
       "      <th>Pclass</th>\n",
       "      <th>Age</th>\n",
       "      <th>SibSp</th>\n",
       "      <th>Parch</th>\n",
       "      <th>Fare</th>\n",
       "      <th>Sex_male</th>\n",
       "    </tr>\n",
       "  </thead>\n",
       "  <tbody>\n",
       "    <tr>\n",
       "      <th>0</th>\n",
       "      <td>3</td>\n",
       "      <td>22</td>\n",
       "      <td>1</td>\n",
       "      <td>0</td>\n",
       "      <td>7</td>\n",
       "      <td>1</td>\n",
       "    </tr>\n",
       "    <tr>\n",
       "      <th>1</th>\n",
       "      <td>1</td>\n",
       "      <td>38</td>\n",
       "      <td>1</td>\n",
       "      <td>0</td>\n",
       "      <td>71</td>\n",
       "      <td>0</td>\n",
       "    </tr>\n",
       "    <tr>\n",
       "      <th>2</th>\n",
       "      <td>3</td>\n",
       "      <td>26</td>\n",
       "      <td>0</td>\n",
       "      <td>0</td>\n",
       "      <td>7</td>\n",
       "      <td>0</td>\n",
       "    </tr>\n",
       "    <tr>\n",
       "      <th>3</th>\n",
       "      <td>1</td>\n",
       "      <td>35</td>\n",
       "      <td>1</td>\n",
       "      <td>0</td>\n",
       "      <td>53</td>\n",
       "      <td>0</td>\n",
       "    </tr>\n",
       "    <tr>\n",
       "      <th>4</th>\n",
       "      <td>3</td>\n",
       "      <td>35</td>\n",
       "      <td>0</td>\n",
       "      <td>0</td>\n",
       "      <td>8</td>\n",
       "      <td>1</td>\n",
       "    </tr>\n",
       "    <tr>\n",
       "      <th>...</th>\n",
       "      <td>...</td>\n",
       "      <td>...</td>\n",
       "      <td>...</td>\n",
       "      <td>...</td>\n",
       "      <td>...</td>\n",
       "      <td>...</td>\n",
       "    </tr>\n",
       "    <tr>\n",
       "      <th>886</th>\n",
       "      <td>2</td>\n",
       "      <td>27</td>\n",
       "      <td>0</td>\n",
       "      <td>0</td>\n",
       "      <td>13</td>\n",
       "      <td>1</td>\n",
       "    </tr>\n",
       "    <tr>\n",
       "      <th>887</th>\n",
       "      <td>1</td>\n",
       "      <td>19</td>\n",
       "      <td>0</td>\n",
       "      <td>0</td>\n",
       "      <td>30</td>\n",
       "      <td>0</td>\n",
       "    </tr>\n",
       "    <tr>\n",
       "      <th>888</th>\n",
       "      <td>3</td>\n",
       "      <td>28</td>\n",
       "      <td>1</td>\n",
       "      <td>2</td>\n",
       "      <td>23</td>\n",
       "      <td>0</td>\n",
       "    </tr>\n",
       "    <tr>\n",
       "      <th>889</th>\n",
       "      <td>1</td>\n",
       "      <td>26</td>\n",
       "      <td>0</td>\n",
       "      <td>0</td>\n",
       "      <td>30</td>\n",
       "      <td>1</td>\n",
       "    </tr>\n",
       "    <tr>\n",
       "      <th>890</th>\n",
       "      <td>3</td>\n",
       "      <td>32</td>\n",
       "      <td>0</td>\n",
       "      <td>0</td>\n",
       "      <td>7</td>\n",
       "      <td>1</td>\n",
       "    </tr>\n",
       "  </tbody>\n",
       "</table>\n",
       "<p>891 rows × 6 columns</p>\n",
       "</div>"
      ],
      "text/plain": [
       "     Pclass  Age  SibSp  Parch  Fare  Sex_male\n",
       "0         3   22      1      0     7         1\n",
       "1         1   38      1      0    71         0\n",
       "2         3   26      0      0     7         0\n",
       "3         1   35      1      0    53         0\n",
       "4         3   35      0      0     8         1\n",
       "..      ...  ...    ...    ...   ...       ...\n",
       "886       2   27      0      0    13         1\n",
       "887       1   19      0      0    30         0\n",
       "888       3   28      1      2    23         0\n",
       "889       1   26      0      0    30         1\n",
       "890       3   32      0      0     7         1\n",
       "\n",
       "[891 rows x 6 columns]"
      ]
     },
     "execution_count": 10,
     "metadata": {},
     "output_type": "execute_result"
    }
   ],
   "source": [
    "#Encoding the categorical variable of \"Sex\" into 0s and 1s. #1 means the person was male\n",
    "\n",
    "X = pd.get_dummies(X, columns =['Sex'], drop_first = True).astype(int)\n",
    "X"
   ]
  },
  {
   "cell_type": "markdown",
   "id": "3e055bd8-0007-497d-9206-f099020952a4",
   "metadata": {},
   "source": [
    "## XGBoost"
   ]
  },
  {
   "cell_type": "code",
   "execution_count": 11,
   "id": "0fe15b45-7df5-49d7-9231-3a8b76968963",
   "metadata": {},
   "outputs": [],
   "source": [
    "import pandas as pd\n",
    "import numpy as np\n",
    "from sklearn.model_selection import StratifiedKFold"
   ]
  },
  {
   "cell_type": "code",
   "execution_count": 89,
   "id": "31183973-cc98-458b-bd3a-f6068c9aaf24",
   "metadata": {},
   "outputs": [],
   "source": [
    "import xgboost as xgb\n",
    "from sklearn.model_selection import StratifiedKFold\n",
    "from sklearn.metrics import accuracy_score\n",
    "\n",
    "skf = StratifiedKFold(n_splits=5, shuffle=True, random_state=42)\n",
    "\n",
    "#Hyperparameters\n",
    "\n",
    "parameters = {\n",
    "    #default\n",
    "    \"objective\": \"binary:logistic\",\n",
    "    \"eta\": 0.1,\n",
    "    \"verbosity\": 0,\n",
    "    \"nthread\": 4,\n",
    "    \"random_seed\": 1,\n",
    "    \"eval_metric\": \"auc\",\n",
    "    'learning_rate': 0.1,\n",
    "    'max_depth': 6,\n",
    "    'subsample': 0.8, \n",
    "    'lambda': 1.0, \n",
    "    'alpha': 0.0,\n",
    "    'colsample_bytree': 0.8,\n",
    "\n",
    "}\n",
    "\n",
    "\n",
    "xgb_train = xgb.DMatrix(X, y, feature_names=list(X.columns))"
   ]
  },
  {
   "cell_type": "code",
   "execution_count": 90,
   "id": "ee743d82-911a-4278-b8c3-5d1c6e1913c2",
   "metadata": {},
   "outputs": [],
   "source": [
    "# Number of boosting rounds\n",
    "num_boost_round = 100\n",
    "\n",
    "# Early stopping after 10 rounds without improvement\n",
    "early_stopping_rounds = 10"
   ]
  },
  {
   "cell_type": "code",
   "execution_count": 51,
   "id": "6cbeba73-71ae-455b-9eef-441dc34a9c6c",
   "metadata": {},
   "outputs": [
    {
     "name": "stdout",
     "output_type": "stream",
     "text": [
      "[0]\ttrain-auc:0.78890+0.01382\ttest-auc:0.72639+0.02903\n",
      "[10]\ttrain-auc:0.91515+0.00527\ttest-auc:0.87025+0.02173\n",
      "[14]\ttrain-auc:0.92064+0.00554\ttest-auc:0.86800+0.02242\n"
     ]
    },
    {
     "data": {
      "text/html": [
       "<div>\n",
       "<style scoped>\n",
       "    .dataframe tbody tr th:only-of-type {\n",
       "        vertical-align: middle;\n",
       "    }\n",
       "\n",
       "    .dataframe tbody tr th {\n",
       "        vertical-align: top;\n",
       "    }\n",
       "\n",
       "    .dataframe thead th {\n",
       "        text-align: right;\n",
       "    }\n",
       "</style>\n",
       "<table border=\"1\" class=\"dataframe\">\n",
       "  <thead>\n",
       "    <tr style=\"text-align: right;\">\n",
       "      <th></th>\n",
       "      <th>train-auc-mean</th>\n",
       "      <th>train-auc-std</th>\n",
       "      <th>test-auc-mean</th>\n",
       "      <th>test-auc-std</th>\n",
       "    </tr>\n",
       "  </thead>\n",
       "  <tbody>\n",
       "    <tr>\n",
       "      <th>0</th>\n",
       "      <td>0.788903</td>\n",
       "      <td>0.013820</td>\n",
       "      <td>0.726391</td>\n",
       "      <td>0.029028</td>\n",
       "    </tr>\n",
       "    <tr>\n",
       "      <th>1</th>\n",
       "      <td>0.888894</td>\n",
       "      <td>0.008247</td>\n",
       "      <td>0.852892</td>\n",
       "      <td>0.018806</td>\n",
       "    </tr>\n",
       "    <tr>\n",
       "      <th>2</th>\n",
       "      <td>0.893658</td>\n",
       "      <td>0.006230</td>\n",
       "      <td>0.862879</td>\n",
       "      <td>0.019556</td>\n",
       "    </tr>\n",
       "    <tr>\n",
       "      <th>3</th>\n",
       "      <td>0.895441</td>\n",
       "      <td>0.004924</td>\n",
       "      <td>0.863664</td>\n",
       "      <td>0.017820</td>\n",
       "    </tr>\n",
       "    <tr>\n",
       "      <th>4</th>\n",
       "      <td>0.902096</td>\n",
       "      <td>0.006044</td>\n",
       "      <td>0.864210</td>\n",
       "      <td>0.020851</td>\n",
       "    </tr>\n",
       "    <tr>\n",
       "      <th>5</th>\n",
       "      <td>0.907625</td>\n",
       "      <td>0.006705</td>\n",
       "      <td>0.870379</td>\n",
       "      <td>0.021898</td>\n",
       "    </tr>\n",
       "  </tbody>\n",
       "</table>\n",
       "</div>"
      ],
      "text/plain": [
       "   train-auc-mean  train-auc-std  test-auc-mean  test-auc-std\n",
       "0        0.788903       0.013820       0.726391      0.029028\n",
       "1        0.888894       0.008247       0.852892      0.018806\n",
       "2        0.893658       0.006230       0.862879      0.019556\n",
       "3        0.895441       0.004924       0.863664      0.017820\n",
       "4        0.902096       0.006044       0.864210      0.020851\n",
       "5        0.907625       0.006705       0.870379      0.021898"
      ]
     },
     "execution_count": 51,
     "metadata": {},
     "output_type": "execute_result"
    }
   ],
   "source": [
    "# Perform cross-validation\n",
    "cv_results = xgb.cv(\n",
    "    parameters,\n",
    "    xgb_train,\n",
    "    num_boost_round=num_boost_round,\n",
    "    early_stopping_rounds=early_stopping_rounds,\n",
    "    folds=skf,\n",
    "    verbose_eval=10\n",
    ")\n",
    "cv_results"
   ]
  },
  {
   "cell_type": "code",
   "execution_count": 52,
   "id": "79c79112-1230-411a-8504-febaf354bce3",
   "metadata": {},
   "outputs": [
    {
     "name": "stdout",
     "output_type": "stream",
     "text": [
      "Optimal number of boosting rounds: 6\n"
     ]
    }
   ],
   "source": [
    "optimal_boost_rounds = cv_results.shape[0]\n",
    "print(f\"Optimal number of boosting rounds: {optimal_boost_rounds}\")"
   ]
  },
  {
   "cell_type": "markdown",
   "id": "ff2fd838-352d-46c9-94fe-9cf3aa407d6c",
   "metadata": {},
   "source": [
    "### Best performance using xgb boost is 92% mean accuracy and the number of boosting rounds is 6."
   ]
  },
  {
   "cell_type": "code",
   "execution_count": 53,
   "id": "76cf92a2-5edb-4ce3-8bed-ea96ef793399",
   "metadata": {},
   "outputs": [],
   "source": [
    "# Train the final model on the entire training data with the best boosting rounds\n",
    "final_model = xgb.train(\n",
    "    parameters,\n",
    "    xgb_train,\n",
    "    num_boost_round=optimal_boost_rounds\n",
    ")\n",
    "\n"
   ]
  },
  {
   "cell_type": "code",
   "execution_count": 54,
   "id": "b9162744-ab32-40ef-a69c-f8c644d34261",
   "metadata": {},
   "outputs": [],
   "source": [
    "test = pd.read_csv('/Users/dariyab/Desktop/projector/ML/Decision Trees /titanic/test.csv')\n",
    "features = ['Pclass', 'Sex', 'Age', 'SibSp', 'Parch', 'Fare']\n",
    "X_test = test[features]\n",
    "X_test['Age'].fillna(X_test['Age'].median(), inplace = True) \n",
    "X_test['Fare'].fillna(X_test['Fare'].median(), inplace = True)\n",
    "X_test.head()\n",
    "X_test = pd.get_dummies(X_test, columns = ['Sex'], drop_first = True).astype(int)\n",
    "#reordering X_test columns so that they match X\n",
    "X_test = X_test[X.columns]"
   ]
  },
  {
   "cell_type": "code",
   "execution_count": 55,
   "id": "def7cb12-e57c-43bf-9a4c-fb3139d17b62",
   "metadata": {},
   "outputs": [],
   "source": [
    "# Example: make predictions on a test set or new data\n",
    "dtest = xgb.DMatrix(X_test)\n",
    "y_pred_probs = final_model.predict(dtest)\n",
    "y_pred = [1 if prob >= 0.5 else 0 for prob in y_pred_probs]\n",
    "\n",
    "\n",
    "# Prepare submission\n",
    "submission = pd.DataFrame({\n",
    "    'PassengerId': test['PassengerId'],\n",
    "    'Survived': y_pred\n",
    "})\n",
    "\n",
    "# Save the predictions to a CSV file\n",
    "submission.to_csv('submission_xgb.csv', index=False)"
   ]
  },
  {
   "cell_type": "markdown",
   "id": "feea7ad1-8e5d-497f-ac3e-035cf11e5ec8",
   "metadata": {},
   "source": [
    "### For the test set in kaggle, the best performance I got was 77% using xgb boost. "
   ]
  },
  {
   "cell_type": "markdown",
   "id": "99188821-61bc-4a4f-a52d-c7bf8f3c0730",
   "metadata": {},
   "source": [
    "## Light GBM model \n",
    "     "
   ]
  },
  {
   "cell_type": "code",
   "execution_count": 95,
   "id": "1adb55a5-ce34-4a3f-b77d-24e3ae1968f8",
   "metadata": {},
   "outputs": [
    {
     "name": "stdout",
     "output_type": "stream",
     "text": [
      "Training until validation scores don't improve for 50 rounds\n",
      "[100]\tcv_agg's train auc: 0.906616 + 0.00458242\tcv_agg's valid auc: 0.868208 + 0.0292248\n",
      "[200]\tcv_agg's train auc: 0.917436 + 0.00394297\tcv_agg's valid auc: 0.872474 + 0.0279466\n",
      "[300]\tcv_agg's train auc: 0.92719 + 0.00359202\tcv_agg's valid auc: 0.873952 + 0.0248364\n",
      "Early stopping, best iteration is:\n",
      "[259]\tcv_agg's train auc: 0.923294 + 0.00393396\tcv_agg's valid auc: 0.874612 + 0.0256799\n"
     ]
    }
   ],
   "source": [
    "import lightgbm as lgb\n",
    "n_rounds = 10000\n",
    "parameters = {\n",
    "    #default\n",
    "    \"objective\": \"binary\",\n",
    "    \"learning_rate\": 0.01,\n",
    "    \"num_threads\": 10,\n",
    "    \"metric\": \"auc\",\n",
    "    \"seed\": 42,\n",
    "\n",
    "    #regularization\n",
    "    \"colsample_bytree\": 0.8,\n",
    "    \"subsample\": 0.8,\n",
    "    \"subsample_freq\": 1,\n",
    "}\n",
    "\n",
    "lgb_train = lgb.Dataset(X, label=y, free_raw_data=False)\n",
    "\n",
    "result = lgb.cv(parameters, lgb_train, n_rounds, folds=skf, eval_train_metric=True, callbacks=[lgb.early_stopping(50), lgb.log_evaluation(period=100)])"
   ]
  },
  {
   "cell_type": "code",
   "execution_count": 96,
   "id": "195d6549-ed36-44ab-b09a-1dd24ddf0198",
   "metadata": {},
   "outputs": [
    {
     "name": "stdout",
     "output_type": "stream",
     "text": [
      "Train auc:      0.9233, std: 0.0039\n",
      "Validation auc: 0.8746, std: 0.0257\n"
     ]
    }
   ],
   "source": [
    "print(f\"Train auc:      {result['train auc-mean'][-1]:.4f}, std: {result['train auc-stdv'][-1]:.4f}\")\n",
    "print(f\"Validation auc: {result['valid auc-mean'][-1]:.4f}, std: {result['valid auc-stdv'][-1]:.4f}\")"
   ]
  },
  {
   "cell_type": "code",
   "execution_count": 103,
   "id": "f00bfd8b-ef0f-4524-b71c-dbf5468d15d5",
   "metadata": {},
   "outputs": [
    {
     "name": "stdout",
     "output_type": "stream",
     "text": [
      "Optimal number of boosting rounds: 259\n"
     ]
    }
   ],
   "source": [
    "optimal_boost_rounds = len(result['train auc-mean'])\n",
    "print(f\"Optimal number of boosting rounds: {optimal_boost_rounds}\")\n"
   ]
  },
  {
   "cell_type": "markdown",
   "id": "9db16502-d086-425f-af52-fb522c1fe7ec",
   "metadata": {},
   "source": [
    "### Best performance using lgb boost is 92% mean accuracy and the number of boosting rounds is 259."
   ]
  },
  {
   "cell_type": "code",
   "execution_count": 108,
   "id": "4e1c9bb2-0148-49b0-8ac1-b92afb774f5b",
   "metadata": {},
   "outputs": [],
   "source": [
    "final_model = lgb.train(\n",
    "    parameters,\n",
    "    lgb_train,\n",
    "    num_boost_round=optimal_boost_rounds\n",
    ")\n",
    "\n",
    "# Predict probabilities on the test set\n",
    "y_pred = final_model.predict(X_test)\n",
    "\n",
    "# Convert probabilities to binary labels\n",
    "y_pred = (y_pred > 0.5).astype(int)  # Convert probabilities to binary labels\n"
   ]
  },
  {
   "cell_type": "code",
   "execution_count": 109,
   "id": "3c51c7ef-d119-4b80-a0d4-8ab63100c861",
   "metadata": {},
   "outputs": [],
   "source": [
    "# Prepare submission\n",
    "submission = pd.DataFrame({\n",
    "    'PassengerId': test['PassengerId'],\n",
    "    'Survived': y_pred\n",
    "})\n",
    "\n",
    "# Save the predictions to a CSV file\n",
    "submission.to_csv('submission_lgb.csv', index=False)"
   ]
  },
  {
   "cell_type": "markdown",
   "id": "0acc113a-b863-4854-a704-703008f16b1a",
   "metadata": {},
   "source": [
    "### For the test set in kaggle, the best performance I got was 76% using lgb boost. "
   ]
  },
  {
   "cell_type": "markdown",
   "id": "f8c1026b-77c8-49bd-99c1-970e4702ed57",
   "metadata": {},
   "source": [
    "## Catboost"
   ]
  },
  {
   "cell_type": "code",
   "execution_count": 112,
   "id": "a412f45d-b8b7-4ca2-a9a2-fd37984b6b19",
   "metadata": {},
   "outputs": [],
   "source": [
    "import catboost as ctb\n",
    "from catboost import Pool\n",
    "\n",
    "parameters = {\n",
    "    \"loss_function\": \"Logloss\",\n",
    "    \"eval_metric\": \"AUC\",\n",
    "    \"iterations\": 1000,  \n",
    "    \"learning_rate\": 0.01,\n",
    "    \"random_seed\": 42,\n",
    "    \"od_wait\": 30,\n",
    "    \"od_type\": \"Iter\",\n",
    "    \"thread_count\": 10\n",
    "}\n",
    "categorical_features_indices = np.where(X.dtypes != np.float64)[0]\n"
   ]
  },
  {
   "cell_type": "code",
   "execution_count": 116,
   "id": "4a16374d-43d9-4d6b-8fa2-f33edcd525dd",
   "metadata": {},
   "outputs": [
    {
     "data": {
      "application/vnd.jupyter.widget-view+json": {
       "model_id": "d29624f16c784522bf7278f4baaf8855",
       "version_major": 2,
       "version_minor": 0
      },
      "text/plain": [
       "MetricVisualizer(layout=Layout(align_self='stretch', height='500px'))"
      ]
     },
     "metadata": {},
     "output_type": "display_data"
    },
    {
     "name": "stdout",
     "output_type": "stream",
     "text": [
      "Training on fold [0/5]\n",
      "0:\ttest: 0.8518445\tbest: 0.8518445 (0)\ttotal: 121ms\tremaining: 2m 1s\n",
      "\n",
      "bestTest = 0.8566534914\n",
      "bestIteration = 6\n",
      "\n",
      "Training on fold [1/5]\n",
      "0:\ttest: 0.8420455\tbest: 0.8420455 (0)\ttotal: 1.89ms\tremaining: 1.89s\n",
      "\n",
      "bestTest = 0.8483957219\n",
      "bestIteration = 20\n",
      "\n",
      "Training on fold [2/5]\n",
      "0:\ttest: 0.7824866\tbest: 0.7824866 (0)\ttotal: 2.47ms\tremaining: 2.47s\n",
      "\n",
      "bestTest = 0.8131684492\n",
      "bestIteration = 47\n",
      "\n",
      "Training on fold [3/5]\n",
      "0:\ttest: 0.8133690\tbest: 0.8133690 (0)\ttotal: 3.55ms\tremaining: 3.55s\n",
      "\n",
      "bestTest = 0.8237299465\n",
      "bestIteration = 9\n",
      "\n",
      "Training on fold [4/5]\n",
      "0:\ttest: 0.8546736\tbest: 0.8546736 (0)\ttotal: 3.54ms\tremaining: 3.54s\n",
      "\n",
      "bestTest = 0.879337854\n",
      "bestIteration = 9\n",
      "\n"
     ]
    }
   ],
   "source": [
    "ctb_data = ctb.Pool(X,y, cat_features=categorical_features_indices)\n",
    "result = ctb.cv(ctb_data, parameters, folds=skf, seed=42, verbose_eval=100, plot=True)\n",
    "result.loc[result[\"test-AUC-mean\"] == result[\"test-AUC-mean\"].max()]\n",
    "optimal_iterations = result.loc[result[\"test-AUC-mean\"] == result[\"test-AUC-mean\"].max()][\"iterations\"].values[0]\n"
   ]
  },
  {
   "cell_type": "markdown",
   "id": "a5977ede-7766-4bb6-aeb9-3220fefba1cb",
   "metadata": {},
   "source": [
    "### Best performance using lgb boost is 87% mean accuracy and the number of boosting rounds is 9."
   ]
  },
  {
   "cell_type": "code",
   "execution_count": 117,
   "id": "aeb01bc0-1708-44b6-8542-46caffccc1d0",
   "metadata": {},
   "outputs": [
    {
     "name": "stdout",
     "output_type": "stream",
     "text": [
      "0:\ttotal: 17.6ms\tremaining: 300ms\n",
      "17:\ttotal: 45.5ms\tremaining: 0us\n"
     ]
    }
   ],
   "source": [
    "final_model = ctb.CatBoostClassifier(\n",
    "    iterations=optimal_iterations,  # Use the optimal boosting rounds\n",
    "    learning_rate=parameters['learning_rate'],\n",
    "    loss_function=parameters['loss_function'],\n",
    "    eval_metric=parameters['eval_metric'],\n",
    "    random_seed=parameters['random_seed'],\n",
    "    od_wait=parameters['od_wait'],\n",
    "    od_type=parameters['od_type'],\n",
    "    thread_count=parameters['thread_count']\n",
    ")\n",
    "\n",
    "# Fit the model on the full dataset\n",
    "final_model.fit(ctb_data, verbose_eval=100)\n",
    "\n",
    "# Make predictions on test data\n",
    "y_pred = final_model.predict(X_test)\n",
    "y_pred_test_probs = final_model.predict_proba(X_test)[:, 1]  # Get probabilities for the positive class\n",
    "\n",
    "# Convert probabilities to binary labels if needed\n",
    "y_pred = (y_pred_test_probs > 0.5).astype(int)  # Thresholding at 0.5\n"
   ]
  },
  {
   "cell_type": "code",
   "execution_count": 118,
   "id": "51679b08-610f-454b-bb6b-3ea8e977fb3c",
   "metadata": {},
   "outputs": [],
   "source": [
    "# Prepare submission\n",
    "submission = pd.DataFrame({\n",
    "    'PassengerId': test['PassengerId'],\n",
    "    'Survived': y_pred\n",
    "})\n",
    "\n",
    "# Save the predictions to a CSV file\n",
    "submission.to_csv('submission_ctb.csv', index=False)"
   ]
  },
  {
   "cell_type": "markdown",
   "id": "7b921ac3-a9e9-426e-aa79-5b9f22d3b87e",
   "metadata": {},
   "source": [
    "### For the test set in kaggle, the best performance I got was 76% using lgb boost. "
   ]
  },
  {
   "cell_type": "markdown",
   "id": "30ff3840-03b1-4b56-868f-3c507a63b855",
   "metadata": {},
   "source": [
    "## Conclusion\n",
    "#### All three boosting models perform better than the random forest and decision tree on the training set. However when I import the predicted scores for the test sets into Kaggle, the models don't perform better than baggin or random forest. They are all around 77% which means that they are not very generalizable"
   ]
  },
  {
   "cell_type": "code",
   "execution_count": null,
   "id": "50198937-f047-400b-b2f4-6b737c3244ed",
   "metadata": {},
   "outputs": [],
   "source": []
  }
 ],
 "metadata": {
  "kernelspec": {
   "display_name": "Python 3 (ipykernel)",
   "language": "python",
   "name": "python3"
  },
  "language_info": {
   "codemirror_mode": {
    "name": "ipython",
    "version": 3
   },
   "file_extension": ".py",
   "mimetype": "text/x-python",
   "name": "python",
   "nbconvert_exporter": "python",
   "pygments_lexer": "ipython3",
   "version": "3.11.7"
  }
 },
 "nbformat": 4,
 "nbformat_minor": 5
}
