{
 "cells": [
  {
   "cell_type": "markdown",
   "metadata": {},
   "source": [
    "Classy Methods: The Python OOPera homework\n"
   ]
  },
  {
   "cell_type": "markdown",
   "metadata": {},
   "source": [
    "1. Modify the Country class to include a third instance attribute called capital as a string. Store your new class in a script and test it out by adding the following code at the bottom of the script:\n",
    "    ```\n",
    "    japan = Country('Japan', 140_000_000, 'Tokyo')\n",
    "    print(f\"{japan.name} population is {japan.population} and capital is {japan.capital}.\") \n",
    "    ```\n",
    "    The output of your script should be:\n",
    "\n",
    "    Japan population is 140000000 and capital is Tokyo.\n",
    "\n",
    "2. Add increase_population method to country class. This method should take an argument and increase population of the country on this number. "
   ]
  },
  {
   "cell_type": "code",
   "execution_count": 29,
   "metadata": {},
   "outputs": [],
   "source": [
    "class Country:\n",
    "    def __init__(self, name, population, capital):\n",
    "        self.name = name\n",
    "        self.population = population\n",
    "        self.capital = capital\n",
    "\n",
    "    # magic method\n",
    "    def __str__(self):\n",
    "        return print(f'Country: {self.name} with population {self.population} and the capital is {self.capital}')\n",
    "    \n",
    "    def increase_population(self, increase): \n",
    "        return self.population + increase\n"
   ]
  },
  {
   "cell_type": "code",
   "execution_count": 30,
   "metadata": {},
   "outputs": [
    {
     "name": "stdout",
     "output_type": "stream",
     "text": [
      "Japan population is 140000000 and capital is Tokyo.\n"
     ]
    }
   ],
   "source": [
    "japan = Country('Japan', 140_000_000, 'Tokyo')\n",
    "print(f\"{japan.name} population is {japan.population} and capital is {japan.capital}.\") \n"
   ]
  },
  {
   "cell_type": "code",
   "execution_count": 32,
   "metadata": {},
   "outputs": [
    {
     "data": {
      "text/plain": [
       "140000120"
      ]
     },
     "execution_count": 32,
     "metadata": {},
     "output_type": "execute_result"
    }
   ],
   "source": [
    "japan.increase_population(120)"
   ]
  },
  {
   "cell_type": "markdown",
   "metadata": {},
   "source": [
    "1. Create add method to add two countries together. This method should create another country object with the name of the two countries combined and population of the two countries added together.\n",
    "```\n",
    "bosnia = Country('Bosnia', 10_000_000)\n",
    "herzegovina = Country('Herzegovina', 5_000_000)\n",
    "\n",
    "bosnia_herzegovina = bosnia.add(herzegovina)\n",
    "bosnia_herzegovina.population -> 15_000_000\n",
    "bosnia_herzegovina.name -> 'Bosnia Herzegovina'"
   ]
  },
  {
   "cell_type": "code",
   "execution_count": 87,
   "metadata": {},
   "outputs": [],
   "source": [
    "class Country:\n",
    "    def __init__(self, name, population):\n",
    "        self.name = name\n",
    "        self.population = population\n",
    "\n",
    "    # magic method\n",
    "    def __str__(self):\n",
    "        return print(f'Country: {self.name} with population {self.population} and the capital is {self.capital}')\n",
    "    \n",
    "    def add(self, other):\n",
    "        combined_population = self.population + other.population\n",
    "        combined_name =  self.name + \" \" + other.name\n",
    "        obj1 = Country(combined_name, combined_population)\n",
    "        return obj1"
   ]
  },
  {
   "cell_type": "code",
   "execution_count": 88,
   "metadata": {},
   "outputs": [],
   "source": [
    "bosnia = Country('Bosnia', 10_000_000)\n",
    "herzegovina = Country('Herzegovina', 5_000_000)"
   ]
  },
  {
   "cell_type": "code",
   "execution_count": 89,
   "metadata": {},
   "outputs": [
    {
     "name": "stdout",
     "output_type": "stream",
     "text": [
      "15000000 Bosnia Herzegovina\n"
     ]
    }
   ],
   "source": [
    "bosnia_herzegovina = bosnia.add(herzegovina)\n",
    "print(bosnia_herzegovina.population, bosnia_herzegovina.name)\n"
   ]
  },
  {
   "cell_type": "markdown",
   "metadata": {},
   "source": [
    "2. Implement previous method with magic method\n",
    "\n",
    "```\n",
    "bosnia = Country('Bosnia', 10_000_000)\n",
    "herzegovina = Country('Herzegovina', 5_000_000)\n",
    "\n",
    "bosnia_herzegovina = bosnia + herzegovina\n",
    "bosnia_herzegovina.population -> 15_000_000\n",
    "bosnia_herzegovina.name -> 'Bosnia Herzegovina'"
   ]
  },
  {
   "cell_type": "code",
   "execution_count": 98,
   "metadata": {},
   "outputs": [],
   "source": [
    "class Country:\n",
    "    def __init__(self, name, population):\n",
    "        self.name = name\n",
    "        self.population = population\n",
    "\n",
    "    # magic method\n",
    "    def __str__(self):\n",
    "        return print(f'Country: {self.name} with population {self.population} and the capital is {self.capital}')\n",
    "    \n",
    "    def __add__(self, other):\n",
    "        combined_population = self.population + other.population\n",
    "        combined_name =  self.name + \" \" + other.name\n",
    "        return Country(combined_name, combined_population)\n"
   ]
  },
  {
   "cell_type": "code",
   "execution_count": 101,
   "metadata": {},
   "outputs": [
    {
     "name": "stdout",
     "output_type": "stream",
     "text": [
      "15000000 Bosnia Herzegovina\n"
     ]
    }
   ],
   "source": [
    "bosnia = Country('Bosnia', 10_000_000)\n",
    "herzegovina = Country('Herzegovina', 5_000_000)\n",
    "bosnia_herzegovina = bosnia + herzegovina\n",
    "print(bosnia_herzegovina.population, bosnia_herzegovina.name)"
   ]
  },
  {
   "cell_type": "markdown",
   "metadata": {},
   "source": [
    "3. Create a Car class with the following attributes: brand, model, year, and speed. The Car class should have the following methods: accelerate, brake and display_speed. The accelerate method should increase the speed by 5, and the brake method should decrease the speed by 5. Remember that the speed cannot be negative.\n"
   ]
  },
  {
   "cell_type": "code",
   "execution_count": 109,
   "metadata": {},
   "outputs": [],
   "source": [
    "class Car: \n",
    "    def __init__(self, brand, model, year, speed):\n",
    "        self.brand = brand\n",
    "        self.model = model \n",
    "        self.year = year\n",
    "        self.speed = speed \n",
    "    \n",
    "    def accelerate(self, increase=5): \n",
    "        return self.speed + increase\n",
    "    \n",
    "\n",
    "    def brake(self, decrease = 5): \n",
    "        return self.speed - decrease\n",
    "    \n",
    "    def display_speed(self): \n",
    "        return print(f'Speed is: {self.speed}')\n",
    "\n",
    "    "
   ]
  },
  {
   "cell_type": "markdown",
   "metadata": {},
   "source": []
  }
 ],
 "metadata": {
  "kernelspec": {
   "display_name": "Python 3",
   "language": "python",
   "name": "python3"
  },
  "language_info": {
   "codemirror_mode": {
    "name": "ipython",
    "version": 3
   },
   "file_extension": ".py",
   "mimetype": "text/x-python",
   "name": "python",
   "nbconvert_exporter": "python",
   "pygments_lexer": "ipython3",
   "version": "3.12.0"
  }
 },
 "nbformat": 4,
 "nbformat_minor": 2
}
