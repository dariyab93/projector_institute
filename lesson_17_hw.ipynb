{
 "cells": [
  {
   "cell_type": "code",
   "execution_count": null,
   "metadata": {},
   "outputs": [],
   "source": []
  },
  {
   "cell_type": "markdown",
   "metadata": {},
   "source": [
    "## Practice\n",
    "\n",
    "1. Add models for student, subject and student_subject from previous lessons in SQLAlchemy.\n",
    "2. Find all students` name that visited 'English' classes.\n",
    "3. (Optional): Rewrite queries from the previous lesson using SQLAlchemy."
   ]
  },
  {
   "cell_type": "code",
   "execution_count": 1,
   "metadata": {},
   "outputs": [
    {
     "name": "stderr",
     "output_type": "stream",
     "text": [
      "/var/folders/hd/pkz6f8qd2j1487tn35pwb1wc0000gn/T/ipykernel_3597/3033468770.py:4: MovedIn20Warning: The ``declarative_base()`` function is now available as sqlalchemy.orm.declarative_base(). (deprecated since: 2.0) (Background on SQLAlchemy 2.0 at: https://sqlalche.me/e/b8d9)\n",
      "  Base = declarative_base()\n"
     ]
    }
   ],
   "source": [
    "from sqlalchemy.ext.declarative import declarative_base\n",
    "from sqlalchemy import Column, Integer, String\n",
    "\n",
    "Base = declarative_base()\n",
    "\n",
    "class Student(Base):\n",
    "    __tablename__ = 'student'\n",
    "\n",
    "    id = Column(Integer, primary_key=True)\n",
    "    name = Column(String)\n",
    "    age = Column(Integer)\n",
    "\n",
    "    def __str__(self):\n",
    "        return f'This is {self.id} student {self.name}. Age: {self.age}'\n",
    "\n",
    "    def __repr__(self):\n",
    "        return f'This is {self.id} student {self.name}. Age: {self.age}'"
   ]
  },
  {
   "cell_type": "code",
   "execution_count": 3,
   "metadata": {},
   "outputs": [],
   "source": [
    "from sqlalchemy import create_engine\n",
    "\n",
    "DATABASE_URI = 'postgresql://{user}:{password}@{host}:{port}/{database}'\n",
    "\n",
    "\n",
    "engine = create_engine(\n",
    "    DATABASE_URI.format(\n",
    "        host='localhost',\n",
    "        database='postgres',\n",
    "        user='dariyab',\n",
    "        password='password',\n",
    "        port=5432,\n",
    "    )\n",
    ")"
   ]
  },
  {
   "cell_type": "code",
   "execution_count": null,
   "metadata": {},
   "outputs": [],
   "source": [
    "Base.metadata.create_all(engine)"
   ]
  },
  {
   "cell_type": "code",
   "execution_count": 4,
   "metadata": {},
   "outputs": [],
   "source": [
    "from sqlalchemy.orm import sessionmaker\n",
    "\n",
    "Session = sessionmaker(bind=engine)\n",
    "\n",
    "session = Session()"
   ]
  },
  {
   "cell_type": "code",
   "execution_count": 13,
   "metadata": {},
   "outputs": [],
   "source": [
    "new_student = Student(name='Jenny', age=19)\n",
    "\n",
    "session.add(new_student)"
   ]
  },
  {
   "cell_type": "code",
   "execution_count": 14,
   "metadata": {},
   "outputs": [
    {
     "name": "stdout",
     "output_type": "stream",
     "text": [
      "Student id  3\n",
      "Student name  Bae\n",
      "Student age  18\n",
      "\n",
      "Student id  4\n",
      "Student name  Eddy\n",
      "Student age  21\n",
      "\n",
      "Student id  5\n",
      "Student name  Lily\n",
      "Student age  22\n",
      "\n",
      "Student id  6\n",
      "Student name  Jenny\n",
      "Student age  19\n",
      "\n"
     ]
    }
   ],
   "source": [
    "students = session.query(Student).all() # select * from student \n",
    "\n",
    "for student in students:\n",
    "    print(f'Student id  {student.id}')\n",
    "    print(f'Student name  {student.name}')\n",
    "    print(f'Student age  {student.age}')\n",
    "    print()"
   ]
  },
  {
   "cell_type": "code",
   "execution_count": 18,
   "metadata": {},
   "outputs": [
    {
     "data": {
      "text/plain": [
       "[('Bae', 18), ('Eddy', 21), ('Lily', 22), ('Jenny', 19)]"
      ]
     },
     "execution_count": 18,
     "metadata": {},
     "output_type": "execute_result"
    }
   ],
   "source": [
    "session.query(Student.name, Student.age).all()\n"
   ]
  },
  {
   "cell_type": "code",
   "execution_count": 17,
   "metadata": {},
   "outputs": [],
   "source": [
    "session.commit()"
   ]
  },
  {
   "cell_type": "code",
   "execution_count": 55,
   "metadata": {},
   "outputs": [
    {
     "name": "stderr",
     "output_type": "stream",
     "text": [
      "/var/folders/hd/pkz6f8qd2j1487tn35pwb1wc0000gn/T/ipykernel_3597/2815040047.py:2: MovedIn20Warning: The ``declarative_base()`` function is now available as sqlalchemy.orm.declarative_base(). (deprecated since: 2.0) (Background on SQLAlchemy 2.0 at: https://sqlalche.me/e/b8d9)\n",
      "  Base = declarative_base()\n"
     ]
    }
   ],
   "source": [
    "#Creating a subject table \n",
    "Base = declarative_base()\n",
    "\n",
    "class Subject(Base):\n",
    "    __tablename__ = 'subject'\n",
    "\n",
    "    id = Column(Integer, primary_key=True)\n",
    "    name = Column(String)\n",
    "\n",
    "    def __str__(self):\n",
    "        return f'This is {self.id} subject {self.name}.'\n"
   ]
  },
  {
   "cell_type": "code",
   "execution_count": 56,
   "metadata": {},
   "outputs": [],
   "source": [
    "Base.metadata.create_all(engine) #needed to do this\n",
    "\n",
    "from sqlalchemy.orm import sessionmaker\n",
    "\n",
    "Session = sessionmaker(bind=engine)\n",
    "\n",
    "session = Session()"
   ]
  },
  {
   "cell_type": "code",
   "execution_count": 63,
   "metadata": {},
   "outputs": [],
   "source": [
    "new_subject = Subject(name = 'Math')\n",
    "session.add(new_subject)"
   ]
  },
  {
   "cell_type": "code",
   "execution_count": 64,
   "metadata": {},
   "outputs": [
    {
     "data": {
      "text/plain": [
       "[(6, 'English'), (7, 'Spanish'), (8, 'Chinese'), (9, 'Math')]"
      ]
     },
     "execution_count": 64,
     "metadata": {},
     "output_type": "execute_result"
    }
   ],
   "source": [
    "session.query(Subject.id, Subject.name).all()\n"
   ]
  },
  {
   "cell_type": "code",
   "execution_count": 65,
   "metadata": {},
   "outputs": [],
   "source": [
    "session.commit()"
   ]
  },
  {
   "cell_type": "code",
   "execution_count": 66,
   "metadata": {},
   "outputs": [
    {
     "name": "stdout",
     "output_type": "stream",
     "text": [
      "Subject id  6\n",
      "Subject name  English\n",
      "\n",
      "Subject id  7\n",
      "Subject name  Spanish\n",
      "\n",
      "Subject id  8\n",
      "Subject name  Chinese\n",
      "\n",
      "Subject id  9\n",
      "Subject name  Math\n",
      "\n"
     ]
    }
   ],
   "source": [
    "subjects = session.query(Subject).all() # select * from student \n",
    "\n",
    "for subject in subjects:\n",
    "    print(f'Subject id  {subject.id}')\n",
    "    print(f'Subject name  {subject.name}')\n",
    "    print()"
   ]
  },
  {
   "cell_type": "code",
   "execution_count": 67,
   "metadata": {},
   "outputs": [],
   "source": [
    "session.close()"
   ]
  },
  {
   "cell_type": "code",
   "execution_count": 95,
   "metadata": {},
   "outputs": [
    {
     "name": "stderr",
     "output_type": "stream",
     "text": [
      "/var/folders/hd/pkz6f8qd2j1487tn35pwb1wc0000gn/T/ipykernel_3597/3277582169.py:2: MovedIn20Warning: The ``declarative_base()`` function is now available as sqlalchemy.orm.declarative_base(). (deprecated since: 2.0) (Background on SQLAlchemy 2.0 at: https://sqlalche.me/e/b8d9)\n",
      "  Base = declarative_base()\n"
     ]
    }
   ],
   "source": [
    "#Creating a student_subject table \n",
    "Base = declarative_base()\n",
    "\n",
    "class Student_Subject(Base):\n",
    "    __tablename__ = 'student_subject'\n",
    "\n",
    "    id = Column(Integer, primary_key=True)\n",
    "    student_id = Column(Integer)\n",
    "    subject_id = Column(Integer)\n",
    "    \n",
    "    def __str__(self):\n",
    "        return f'This is {self.id} subject ID: {self.subject_id} and student ID: {self.student_id}.'\n"
   ]
  },
  {
   "cell_type": "code",
   "execution_count": 72,
   "metadata": {},
   "outputs": [],
   "source": [
    "Base.metadata.create_all(engine) #needed to do this\n",
    "\n",
    "from sqlalchemy.orm import sessionmaker\n",
    "\n",
    "Session = sessionmaker(bind=engine)\n",
    "\n",
    "session = Session()"
   ]
  },
  {
   "cell_type": "code",
   "execution_count": 81,
   "metadata": {},
   "outputs": [],
   "source": [
    "new_student_subject = Student_Subject(student_id =6, subject_id = 9)\n",
    "session.add(new_student_subject)"
   ]
  },
  {
   "cell_type": "code",
   "execution_count": 96,
   "metadata": {},
   "outputs": [
    {
     "data": {
      "text/plain": [
       "[(1, 3, 6), (2, 3, 7), (3, 4, 8), (4, 5, 6), (5, 6, 9)]"
      ]
     },
     "execution_count": 96,
     "metadata": {},
     "output_type": "execute_result"
    }
   ],
   "source": [
    "session.query(Student_Subject.id, Student_Subject.student_id, Student_Subject.subject_id).all()\n"
   ]
  },
  {
   "cell_type": "code",
   "execution_count": 84,
   "metadata": {},
   "outputs": [],
   "source": [
    "session.commit()\n",
    "session.close()"
   ]
  },
  {
   "cell_type": "code",
   "execution_count": 101,
   "metadata": {},
   "outputs": [
    {
     "data": {
      "text/plain": [
       "[(3,), (5,)]"
      ]
     },
     "execution_count": 101,
     "metadata": {},
     "output_type": "execute_result"
    }
   ],
   "source": [
    "#Choose students who are studying Enlgish (subject_Id = 6)\n",
    "session.query(Student_Subject.student_id).filter(Student_Subject.subject_id == 6).all()\n"
   ]
  },
  {
   "cell_type": "markdown",
   "metadata": {},
   "source": [
    "Students Bae(student_id = 3) and Lily (student_id = 5) are students that are studying English "
   ]
  },
  {
   "cell_type": "markdown",
   "metadata": {},
   "source": []
  },
  {
   "cell_type": "markdown",
   "metadata": {},
   "source": []
  }
 ],
 "metadata": {
  "kernelspec": {
   "display_name": "Python 3",
   "language": "python",
   "name": "python3"
  },
  "language_info": {
   "codemirror_mode": {
    "name": "ipython",
    "version": 3
   },
   "file_extension": ".py",
   "mimetype": "text/x-python",
   "name": "python",
   "nbconvert_exporter": "python",
   "pygments_lexer": "ipython3",
   "version": "3.12.0"
  }
 },
 "nbformat": 4,
 "nbformat_minor": 2
}
