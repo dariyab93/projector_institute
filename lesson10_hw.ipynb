{
 "cells": [
  {
   "cell_type": "markdown",
   "metadata": {},
   "source": [
    "### Lesson 10_hw_redo"
   ]
  },
  {
   "cell_type": "markdown",
   "metadata": {},
   "source": [
    "1. \n",
    "    1. Write a program that generate 26 text files named A.txt, B.txt, and so on up to Z.txt.\n",
    "    2. To each file append a random number between 1 and 100.\n",
    "    3. Create a summary file (summary.txt) that contains name of the file and number in that file:\n",
    "\n",
    "        A.txt: 67\n",
    "\n",
    "        B.txt: 12\n",
    "\n",
    "        ...\n",
    "        \n",
    "        Z.txt: 98\n"
   ]
  },
  {
   "cell_type": "code",
   "execution_count": 1,
   "metadata": {},
   "outputs": [],
   "source": [
    "import string, os\n",
    "os.chdir('/Users/dariyab/Desktop/projector/letters')\n",
    "for letter in string.ascii_uppercase: \n",
    "    with open(letter + \".txt\", \"w\") as f: \n",
    "        f.writelines(letter)\n",
    "        "
   ]
  },
  {
   "cell_type": "code",
   "execution_count": 2,
   "metadata": {},
   "outputs": [],
   "source": [
    "import random\n",
    "path = '/Users/dariyab/Desktop/projector/letters'\n",
    "file_list = os.listdir(path)\n",
    "for file_name in file_list: \n",
    "    with open(file_name, 'w') as file: \n",
    "        file.write(str(random.randint(1,101)))\n",
    "\n"
   ]
  },
  {
   "cell_type": "code",
   "execution_count": 4,
   "metadata": {},
   "outputs": [],
   "source": [
    "from itertools import islice\n",
    "\n",
    "file_list = os.listdir(path)\n",
    "with open('summary.txt','w') as summary:\n",
    "    for file_name in file_list:\n",
    "        with open(file_name, 'r') as file:\n",
    "            summary.write(('%s: %s\\n' % (file_name, repr(', '.join(islice(file,2))))))\n",
    "\n"
   ]
  },
  {
   "cell_type": "markdown",
   "metadata": {},
   "source": [
    "2. \n",
    "    1. Create file with some content. As example you can take this one\n",
    "    ```\n",
    "        Lorem ipsum dolor sit amet, consectetur adipiscing elit, sed do eiusmod tempor incididunt ut labore et dolore magna aliqua. Ut enim ad minim veniam, quis nostrud exercitation ullamco laboris nisi ut aliquip ex ea commodo consequat. Duis aute irure dolor in reprehenderit in voluptate velit esse cillum dolore eu fugiat nulla pariatur. Excepteur sint occaecat cupidatat non proident, sunt in culpa qui officia deserunt mollit anim id est laborum.\n",
    "    ```\n",
    "    2. Create second file and copy content of the first file to the second file in upper case."
   ]
  },
  {
   "cell_type": "code",
   "execution_count": 5,
   "metadata": {},
   "outputs": [],
   "source": [
    "os.chdir('/Users/dariyab/Desktop/projector/')\n",
    "with open('first_file.txt','r') as firstfile, open('second_file.txt','w') as secondfile: \n",
    "    # read content from first file \n",
    "    for line in firstfile: \n",
    "             # write content to second file \n",
    "             secondfile.write(line)"
   ]
  },
  {
   "cell_type": "markdown",
   "metadata": {},
   "source": [
    "3. Write a program that will simulate user score in a game. Create a list with 5 player's names. After that simulate 100 games for each player. As a result of the game create a list with player's name and his score (0-1000 range). And save it to a CSV file. File should looks like this:\n",
    "    ```\n",
    "    Player name, Score\n",
    "    Josh, 56\n",
    "    Luke, 784\n",
    "    Kate, 90\n",
    "    Mark, 125\n",
    "    Mary, 877\n",
    "    Josh, 345\n",
    "    ..."
   ]
  },
  {
   "cell_type": "code",
   "execution_count": 38,
   "metadata": {},
   "outputs": [],
   "source": [
    "import csv \n",
    "players = ['Josh', 'Luke', 'Kate', 'Mark', 'Mary']\n",
    "\n",
    "game_result = []\n",
    "\n",
    "for player in players: \n",
    "    scores = (random.randint(0,1000) for game in range(100))\n",
    "    for score in scores: \n",
    "        game_result.append({'Player name': player, 'Score': score}) #storing as separate fields\n",
    "\n",
    "csv_path = '/Users/dariyab/Desktop/projector/game_results.csv'\n",
    "with open(csv_path, 'w', newline='') as csvfile:\n",
    "    fieldnames = ['Player name', 'Score']\n",
    "    writer = csv.DictWriter(csvfile, fieldnames=fieldnames)\n",
    "    writer.writeheader()\n",
    "    writer.writerows(game_result)\n"
   ]
  },
  {
   "cell_type": "markdown",
   "metadata": {},
   "source": [
    "4. Write a script that reads the data from the previous CSV file and creates a new file called high_scores.csv where each row contains the player name and their highest score. The final score should be sorted by descending to the highest score.\n",
    "\n",
    "The output CSV file should look like this:\n",
    "Player name, Highest score\n",
    "Kate, 907\n",
    "Mary, 897\n",
    "Luke, 784\n",
    "Mark, 725\n",
    "Josh, 345"
   ]
  },
  {
   "cell_type": "code",
   "execution_count": 63,
   "metadata": {},
   "outputs": [
    {
     "name": "stdout",
     "output_type": "stream",
     "text": [
      "<class 'list'>\n"
     ]
    }
   ],
   "source": [
    "csv_path = '/Users/dariyab/Desktop/projector/game_results.csv'\n",
    "\n",
    "with open(csv_path, 'r') as csvfile: \n",
    "    dictionary = csv.DictReader(csvfile) #read each entry of the csvfile as a dictionary (Key is the column name)\n",
    "    data = list(dictionary) #convert dictionary to list \n",
    "    print(type(data))\n",
    "\n",
    "high_score = {}\n",
    "for entry in data: \n",
    "    player = entry['Player name']\n",
    "    score = int(entry['Score'])\n",
    "    high_score[player] = max(high_score.get(player, 0), score)\n",
    "\n",
    "sorted_high_score = sorted(high_score.items(), key = lambda x: x[1], reverse = True) #x[1] means it's getting the second item\n",
    "\n",
    "csv_path = '/Users/dariyab/Desktop/projector/high_scores.csv'\n",
    "with open(csv_path, 'w', newline='') as csvfile:\n",
    "    fieldnames = ['Player name', 'Highest Score']\n",
    "    writer = csv.DictWriter(csvfile, fieldnames=fieldnames)\n",
    "    writer.writeheader()\n",
    "\n",
    "    for player, score in sorted_high_score: \n",
    "        writer.writerow({'Player name': player, 'Highest Score': score})\n"
   ]
  },
  {
   "cell_type": "code",
   "execution_count": null,
   "metadata": {},
   "outputs": [],
   "source": []
  }
 ],
 "metadata": {
  "kernelspec": {
   "display_name": "Python 3",
   "language": "python",
   "name": "python3"
  },
  "language_info": {
   "codemirror_mode": {
    "name": "ipython",
    "version": 3
   },
   "file_extension": ".py",
   "mimetype": "text/x-python",
   "name": "python",
   "nbconvert_exporter": "python",
   "pygments_lexer": "ipython3",
   "version": "3.12.2"
  }
 },
 "nbformat": 4,
 "nbformat_minor": 2
}
