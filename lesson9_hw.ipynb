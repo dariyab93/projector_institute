{
 "cells": [
  {
   "cell_type": "markdown",
   "metadata": {},
   "source": [
    "Homework: Complexity. Algorithms "
   ]
  },
  {
   "cell_type": "markdown",
   "metadata": {},
   "source": [
    "\n",
    "**You have 100 cats.**\n",
    "\n",
    "One day you decide to arrange all your cats in a giant circle. Initially, none of your cats have any hats on. You walk around the circle 100 times, always starting at the same spot, with the first cat (cat # 1). Every time you stop at a cat, you either put a hat on it if it doesn’t have one on, or you take its hat off if it has one on.\n",
    "1. The first round, you stop at every cat, placing a hat on each one.\n",
    "2. The second round, you only stop at every second cat (#2, #4, #6, #8, etc.).\n",
    "3. The third round, you only stop at every third cat(#3, #6, #9, #12, etc.).\n",
    "4. You continue this process until you’ve made 100 rounds around the cats (e.g., you only visit the 100th cat).\n",
    "Write a program that simply outputs which cats have hats at the end.\n",
    "\n",
    "Optional: Make function that can calculate hat with any amount of rounds and cats.\n",
    "\n",
    "Here you should write an algorithm, after that, try to make pseudo code. Only after that start to work. Code is simple here, but you might struggle with algorithm. Therefore don`t try to write a code from the first attempt. Don't forget to calculate complexity of your algorithm.\n",
    "\n",
    "*Homework should be uploaded at GitHub.com*\n",
    "*Result of this HW should be a link to your GitHub code*\n",
    "*To learn how to work in Git, read first three chapters of this book:*\n",
    "[GIT book](https://git-scm.com/book/en/v2)"
   ]
  },
  {
   "cell_type": "code",
   "execution_count": 1,
   "metadata": {},
   "outputs": [
    {
     "name": "stdout",
     "output_type": "stream",
     "text": [
      "[1, 4, 9, 16, 25, 36, 49, 64, 81, 100]\n"
     ]
    }
   ],
   "source": [
    "\n",
    "number_of_cats = 100\n",
    "cats_with_hats = []\n",
    "\n",
    "for lap in range(1, 101): #number of laps \n",
    "    for cat in range(1, 101):\n",
    "        if cat % lap == 0:\n",
    "            if cat in cats_with_hats:\n",
    "                cats_with_hats.remove(cat)\n",
    "            else:\n",
    "                cats_with_hats.append(cat)\n",
    "\n",
    "print(cats_with_hats)\n"
   ]
  },
  {
   "cell_type": "markdown",
   "metadata": {},
   "source": [
    "Complexity is O(n^2) because we have nested for loops. "
   ]
  },
  {
   "cell_type": "markdown",
   "metadata": {},
   "source": []
  }
 ],
 "metadata": {
  "kernelspec": {
   "display_name": "Python 3",
   "language": "python",
   "name": "python3"
  },
  "language_info": {
   "codemirror_mode": {
    "name": "ipython",
    "version": 3
   },
   "file_extension": ".py",
   "mimetype": "text/x-python",
   "name": "python",
   "nbconvert_exporter": "python",
   "pygments_lexer": "ipython3",
   "version": "3.12.0"
  }
 },
 "nbformat": 4,
 "nbformat_minor": 2
}
