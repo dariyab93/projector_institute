{
 "cells": [
  {
   "cell_type": "markdown",
   "metadata": {},
   "source": [
    "Lesson 12 homework: Decorators "
   ]
  },
  {
   "cell_type": "markdown",
   "metadata": {},
   "source": [
    "1. Write a decorator that ensures a function is only called by users with a specific role. Each function should have an user_type with a string type in kwargs\n",
    "\n",
    "    Example\n",
    "\n",
    "    ```python\n",
    "    @is_admin\n",
    "    def show_customer_receipt(user_type: str):\n",
    "        # some very dangerous operation\n",
    "\n",
    "    show_customer_receipt(user_type='user')\n",
    "    > ValueError: Permission denied\n",
    "\n",
    "    show_customer_receipt(user_type='admin')\n",
    "    > function pass as it should be\n",
    "    ```\n"
   ]
  },
  {
   "cell_type": "code",
   "execution_count": 45,
   "metadata": {},
   "outputs": [],
   "source": [
    "def is_admin(func): \n",
    "    def wrapper(user_type, **kwargs): \n",
    "        if user_type == 'admin': \n",
    "            return func(user_type, **kwargs)\n",
    "        else: \n",
    "            raise ValueError('Permission denied')\n",
    "    return wrapper"
   ]
  },
  {
   "cell_type": "code",
   "execution_count": 49,
   "metadata": {},
   "outputs": [],
   "source": [
    "@is_admin\n",
    "def show_customer_receipt(user_type: str): \n",
    "    return \"This is your receipt. \""
   ]
  },
  {
   "cell_type": "code",
   "execution_count": 55,
   "metadata": {},
   "outputs": [
    {
     "data": {
      "text/plain": [
       "'This is your receipt. '"
      ]
     },
     "execution_count": 55,
     "metadata": {},
     "output_type": "execute_result"
    }
   ],
   "source": [
    "show_customer_receipt(user_type = 'admin')"
   ]
  },
  {
   "cell_type": "markdown",
   "metadata": {},
   "source": [
    "2. Write a decorator that wraps a function in a try-except block and print an error if any error has happened\n",
    "\n",
    "    Example\n",
    "    ```python\n",
    "    @catch_errors\n",
    "    def some_function_with_risky_operation(data):\n",
    "        print(data['key'])\n",
    "\n",
    "\n",
    "    some_function_with_risky_operation({'foo': 'bar'})\n",
    "    > Found 1 error during execution of your function: KeyError no such key as foo\n",
    "\n",
    "    some_function_with_risky_operation({'key': 'bar'})\n",
    "    > bar\n",
    "    ```"
   ]
  },
  {
   "cell_type": "code",
   "execution_count": 56,
   "metadata": {},
   "outputs": [],
   "source": [
    "def catch_errors(func): \n",
    "    def wrapper(data): \n",
    "        if 'key' in data: \n",
    "            print(data['key'])\n",
    "        else: \n",
    "            raise KeyError('No such key')\n",
    "    return wrapper\n"
   ]
  },
  {
   "cell_type": "code",
   "execution_count": 61,
   "metadata": {},
   "outputs": [
    {
     "name": "stdout",
     "output_type": "stream",
     "text": [
      "cat\n"
     ]
    }
   ],
   "source": [
    "@catch_errors\n",
    "def some_function_with_risky_operation(data):\n",
    "    print(data['key'])\n",
    "\n",
    "some_function_with_risky_operation({'key': 'cat'})"
   ]
  }
 ],
 "metadata": {
  "kernelspec": {
   "display_name": "Python 3",
   "language": "python",
   "name": "python3"
  },
  "language_info": {
   "codemirror_mode": {
    "name": "ipython",
    "version": 3
   },
   "file_extension": ".py",
   "mimetype": "text/x-python",
   "name": "python",
   "nbconvert_exporter": "python",
   "pygments_lexer": "ipython3",
   "version": "3.12.0"
  }
 },
 "nbformat": 4,
 "nbformat_minor": 2
}
