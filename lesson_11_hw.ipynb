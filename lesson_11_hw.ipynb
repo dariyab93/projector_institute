{
 "cells": [
  {
   "cell_type": "markdown",
   "metadata": {},
   "source": [
    "Lesson 11 homework: \n",
    "1. Create a program that will ask user to search a word. Search this word in Giphy (use their API). Return links to these GIFs as a result\n",
    "2. Optional: Add Telegram bot to this script. Ask user to input data in bot input and return gifs as a result \n"
   ]
  },
  {
   "cell_type": "code",
   "execution_count": 1,
   "metadata": {},
   "outputs": [],
   "source": [
    "import json\n",
    "from urllib import parse, request\n",
    "\n",
    "MY_API_KEY = '55hVVwU5rmiNLMqmLdLA7A8GVIx8nAu4'\n",
    "\n",
    "url = \"http://api.giphy.com/v1/gifs/search\"\n",
    "SEARCH_TERM = input(\"Enter a search term: \")\n",
    "\n",
    "params = parse.urlencode({\n",
    "  \"q\": SEARCH_TERM,\n",
    "  \"api_key\": MY_API_KEY,\n",
    "  \"limit\": \"5\"\n",
    "})\n",
    "\n",
    "\n",
    "with request.urlopen(\"\".join((url, \"?\", params))) as response:\n",
    "  data = json.loads(response.read())\n",
    "\n",
    "#print(json.dumps(data, sort_keys=True, indent=4))\n"
   ]
  },
  {
   "cell_type": "code",
   "execution_count": 2,
   "metadata": {},
   "outputs": [
    {
     "data": {
      "text/plain": [
       "['https://giphy.com/gifs/warnerbrosde-barbie-barbiemovie-barbiethemovie-rLNRhImy407URFIDnX',\n",
       " 'https://giphy.com/gifs/WBPictures-reaction-movie-barbie-jWgFDax9Dmcpi5hiec',\n",
       " 'https://giphy.com/gifs/WBPictures-movie-sunglasses-barbie-xoHntNXFYkfzGAftEv',\n",
       " 'https://giphy.com/gifs/warnerbrosde-barbie-barbiemovie-barbiethemovie-MXWutj1pI3wTnvr78X',\n",
       " 'https://giphy.com/gifs/warnerbrosde-barbie-barbiemovie-barbiethemovie-qLVGt6Go1dQFp4qVcg']"
      ]
     },
     "execution_count": 2,
     "metadata": {},
     "output_type": "execute_result"
    }
   ],
   "source": [
    "#Storing the results in a list and printing the list\n",
    "gif_url = []\n",
    "for i in range(5): #5 search results because we set the \n",
    "    gif_url.append(data['data'][i]['url'])\n",
    "\n",
    "gif_url"
   ]
  },
  {
   "cell_type": "code",
   "execution_count": null,
   "metadata": {},
   "outputs": [],
   "source": []
  }
 ],
 "metadata": {
  "kernelspec": {
   "display_name": "Python 3",
   "language": "python",
   "name": "python3"
  },
  "language_info": {
   "codemirror_mode": {
    "name": "ipython",
    "version": 3
   },
   "file_extension": ".py",
   "mimetype": "text/x-python",
   "name": "python",
   "nbconvert_exporter": "python",
   "pygments_lexer": "ipython3",
   "version": "3.12.0"
  }
 },
 "nbformat": 4,
 "nbformat_minor": 2
}
