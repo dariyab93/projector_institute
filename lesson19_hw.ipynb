{
 "cells": [
  {
   "cell_type": "markdown",
   "metadata": {},
   "source": [
    "## Homework: Testing"
   ]
  },
  {
   "cell_type": "markdown",
   "metadata": {},
   "source": []
  },
  {
   "cell_type": "markdown",
   "metadata": {},
   "source": [
    "3. (Optional) A Bank\n",
    "    1. Using the Account class as a base class, write two derived classes called SavingsAccount and CurrentAccount. A SavingsAccount object, in addition to the attributes of an Account object, should have an interest attribute and a method which adds interest to the account. A CurrentAccount object, in addition to the attributes of an Account object, should have an overdraft limit attribute.\n",
    "\n",
    "    2. Now create a Bank class, an object of which contains an array of Account objects. Accounts in the array could be instances of the Account class, the SavingsAccount class, or the CurrentAccount class. Create some test accounts (some of each type).\n",
    "\n",
    "    3. Write an update method in the Bank class. It iterates through each account, updating it in the following ways: Savings accounts get interest added (via the method you already wrote); CurrentAccounts get a letter sent if they are in overdraft. (use print to 'send' the letter).\n",
    "\n",
    "    4. The Bank class requires methods for opening and closing accounts, and for paying a dividend into each account."
   ]
  },
  {
   "cell_type": "code",
   "execution_count": 26,
   "metadata": {},
   "outputs": [],
   "source": [
    "class Account:\n",
    "    def __init__(self, account_number, balance):\n",
    "        self._balance = balance\n",
    "        self._account_number = account_number\n",
    "    \n",
    "    @classmethod\n",
    "    def create_account(cls, account_number):\n",
    "        return cls(0.0, account_number)\n",
    "    \n",
    "    def deposit(self, amount):\n",
    "        if amount > 0:\n",
    "            self._balance += amount\n",
    "        else:\n",
    "            raise ValueError('Amount must be positive')\n",
    "\n",
    "    def withdraw(self, amount):\n",
    "        if amount > 0:\n",
    "            self._balance -= amount\n",
    "        else:\n",
    "            raise ValueError('Amount must be positive')\n",
    "\n",
    "    def get_balance(self):\n",
    "        return self._balance\n",
    "    \n",
    "    def get_account_number(self):\n",
    "        return self._account_number\n",
    "    \n",
    "    def __str__(self):\n",
    "        return f'Account number: {self._account_number}, balance: {self._balance}'\n",
    "\n"
   ]
  },
  {
   "cell_type": "code",
   "execution_count": 32,
   "metadata": {},
   "outputs": [],
   "source": [
    "class SavingsAccount(Account):\n",
    "    def __init__(self, account_number, balance, interest_rate):\n",
    "        super().__init__(account_number, balance)\n",
    "        self.interest_rate = interest_rate\n",
    "\n",
    "    def calculate_interest(self):\n",
    "        interest = self._balance * self.interest_rate\n",
    "        self._balance += interest\n",
    "        print(f\"Interest added to account {self._account_number}. New balance: {self._balance}\")\n",
    "\n",
    "class CurrentAccount(Account):\n",
    "    def __init__(self, account_number, balance, overdraft_limit):\n",
    "        super().__init__(account_number, balance)\n",
    "        self.overdraft_limit = overdraft_limit\n",
    "\n",
    "    def send_overdraft_letter(self):\n",
    "        if self._balance < 0:\n",
    "            print(f\"Overdraft letter sent to account {self._account_number}\")"
   ]
  },
  {
   "cell_type": "code",
   "execution_count": 44,
   "metadata": {},
   "outputs": [],
   "source": [
    "\n",
    "class Bank:\n",
    "    def __init__(self):\n",
    "        self.accounts = []\n",
    "\n",
    "    def add_account(self, account):\n",
    "        self.accounts.append(account)\n",
    "\n",
    "    def display_accounts(self):\n",
    "        for account in self.accounts:\n",
    "            print(f\"Account {account.get_account_number()} balance: {account.get_balance()}\")\n",
    "            \n",
    "    def update_accounts(self):\n",
    "        for account in self.accounts:\n",
    "            if isinstance(account, SavingsAccount):\n",
    "                account.calculate_interest()\n",
    "            elif isinstance(account, CurrentAccount):\n",
    "                account.send_overdraft_letter()\n",
    "\n",
    "    def open_account(self, account):\n",
    "        self.add_account(account)\n",
    "        print(f\"Account {account.get_account_number()} opened.\")\n",
    "        \n",
    "    def close_account(self, account_number):\n",
    "        for account in self.accounts:\n",
    "            if account.get_account_number() == account_number:\n",
    "                self.accounts.remove(account)\n",
    "                print(f\"Account {account_number} closed.\")\n",
    "                return\n",
    "        print(f\"Account {account_number} not found.\")\n",
    "\n",
    "    def pay_dividend(self, dividend):\n",
    "        for account in self.accounts:\n",
    "            account.deposit(dividend)\n",
    "            print(f\"Dividend paid into account {account.get_account_number()}. New balance: {account.get_balance()}\")"
   ]
  },
  {
   "cell_type": "code",
   "execution_count": 46,
   "metadata": {},
   "outputs": [
    {
     "name": "stdout",
     "output_type": "stream",
     "text": [
      "Account 2001 opened.\n",
      "Account 3001 opened.\n",
      "\n",
      "Initial account balances:\n",
      "Account 2001 balance: 10000\n",
      "Account 3001 balance: 8000\n",
      "\n",
      "After updating accounts:\n",
      "Interest added to account 2001. New balance: 10500.0\n",
      "Account 2001 balance: 10500.0\n",
      "Account 3001 balance: 8000\n",
      "Account 3001 closed.\n",
      "Dividend paid into account 2001. New balance: 11500.0\n",
      "Account 2001 balance: 11500.0\n"
     ]
    }
   ],
   "source": [
    "savings_account1 = SavingsAccount(2001, 10000, 0.05)\n",
    "current_account1 = CurrentAccount(3001, 8000, 2000)\n",
    "\n",
    "# Creating a Bank object and adding accounts to it\n",
    "bank = Bank()\n",
    "bank.open_account(savings_account1)\n",
    "bank.open_account(current_account1)\n",
    "\n",
    "# Displaying account balances through the Bank object\n",
    "print(\"\\nInitial account balances:\")\n",
    "bank.display_accounts()\n",
    "\n",
    "# Updating accounts and displaying balances\n",
    "print(\"\\nAfter updating accounts:\")\n",
    "bank.update_accounts()\n",
    "bank.display_accounts()\n",
    "\n",
    "# Closing an account\n",
    "bank.close_account(3001)\n",
    "\n",
    "# Paying dividend into accounts\n",
    "bank.pay_dividend(1000)\n",
    "bank.display_accounts()"
   ]
  },
  {
   "cell_type": "code",
   "execution_count": null,
   "metadata": {},
   "outputs": [],
   "source": []
  },
  {
   "cell_type": "code",
   "execution_count": null,
   "metadata": {},
   "outputs": [],
   "source": []
  }
 ],
 "metadata": {
  "kernelspec": {
   "display_name": "Python 3",
   "language": "python",
   "name": "python3"
  },
  "language_info": {
   "codemirror_mode": {
    "name": "ipython",
    "version": 3
   },
   "file_extension": ".py",
   "mimetype": "text/x-python",
   "name": "python",
   "nbconvert_exporter": "python",
   "pygments_lexer": "ipython3",
   "version": "3.12.0"
  }
 },
 "nbformat": 4,
 "nbformat_minor": 2
}
