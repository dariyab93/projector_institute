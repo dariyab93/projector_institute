{
 "cells": [
  {
   "cell_type": "markdown",
   "metadata": {},
   "source": [
    "Homework: OOP inheritance "
   ]
  },
  {
   "cell_type": "markdown",
   "metadata": {},
   "source": [
    "## Practice\n",
    "\n",
    "1. Create a class Product with properties name, price, and quantity. Create a child class Book that inherits from Product and adds a property author and a method called read.\n",
    "\n"
   ]
  },
  {
   "cell_type": "code",
   "execution_count": 7,
   "metadata": {},
   "outputs": [],
   "source": [
    "class Product:\n",
    "    def __init__(self, name, price, quantity):\n",
    "        self.name = name \n",
    "        self.price = price \n",
    "        self.quantity = quantity \n",
    "\n",
    "class Book(Product): \n",
    "    def __init__(self, name, price, quantity, author): \n",
    "        super().__init__(name, price, quantity)\n",
    "        self.author = author\n",
    "    \n",
    "    def read(self): \n",
    "        return f'The title of the book is: {self.name} and it is written by {self.author}'\n",
    "\n",
    "\n",
    "\n"
   ]
  },
  {
   "cell_type": "code",
   "execution_count": 8,
   "metadata": {},
   "outputs": [
    {
     "data": {
      "text/plain": [
       "'The title of the book is: The Orphanage and it is written by Serhiy Zhadan'"
      ]
     },
     "execution_count": 8,
     "metadata": {},
     "output_type": "execute_result"
    }
   ],
   "source": [
    "the_orphange = Book('The Orphanage', 20, 1, 'Serhiy Zhadan')\n",
    "\n",
    "the_orphange.read()"
   ]
  },
  {
   "cell_type": "markdown",
   "metadata": {},
   "source": [
    "2. Create a class Restaurant with properties name, cuisine, and menu. The menu property should be a dictionary with keys being the dish name and values being the price. Create a child class FastFood that inherits from Restaurant and adds a property drive_thru (a boolean indicating whether the restaurant has a drive-thru or not) and a method called order which takes in the dish name and quantity and returns the total cost of the order. The method should also update the menu dictionary to subtract the ordered quantity from the available quantity. If the dish is not available or if the requested quantity is greater than the available quantity, the method should return a message indicating that the order cannot be fulfilled.\n",
    "\n",
    "Example of usage\n",
    "    \n",
    "```python\n",
    "class Restaurant:\n",
    "    # your code here\n",
    "    pass\n",
    "\n",
    "class FastFood(Restaurant):\n",
    "    # your code here\n",
    "    pass\n",
    "\n",
    "menu =  {\n",
    "    'burger': {'price': 5, 'quantity': 10},\n",
    "    'pizza': {'price': 10, 'quantity': 20},\n",
    "    'drink': {'price': 1, 'quantity': 15}\n",
    "}\n",
    "\n",
    "mc = FastFood('McDonalds', 'Fast Food', menu, True)\n",
    "\n",
    "print(mc.order('burger', 5)) # 25\n",
    "print(mc.order('burger', 15)) # Requested quantity not available\n",
    "print(mc.order('soup', 5)) # Dish not available"
   ]
  },
  {
   "cell_type": "code",
   "execution_count": 35,
   "metadata": {},
   "outputs": [],
   "source": [
    "class Restaurant:\n",
    "    def __init__(self, name, cuisine, menu):\n",
    "        self.name = name \n",
    "        self.cuisine = cuisine\n",
    "        self.menu = menu\n",
    "\n",
    "class FastFood(Restaurant):\n",
    "    def __init__(self, name, cuisine, menu, drive_thru): \n",
    "        super().__init__(name, cuisine, menu)\n",
    "        self.drive_thru = drive_thru\n",
    "    \n",
    "    def order(self, name, quant): \n",
    "        if name in menu:\n",
    "\n",
    "            if quant > menu[name]['quantity']: \n",
    "                print('Requested quantity not available')\n",
    "            else: \n",
    "                total_cost = menu[name]['price']*quant   \n",
    "                menu[name]['quantity'] -= quant #update menu quantities \n",
    "                return total_cost\n",
    "        else: \n",
    "            print(\"This dish is not available\")\n"
   ]
  },
  {
   "cell_type": "code",
   "execution_count": 38,
   "metadata": {},
   "outputs": [
    {
     "name": "stdout",
     "output_type": "stream",
     "text": [
      "25\n",
      "Requested quantity not available\n",
      "None\n",
      "This dish is not available\n",
      "None\n"
     ]
    }
   ],
   "source": [
    "\n",
    "menu =  {\n",
    "    'burger': {'price': 5, 'quantity': 10},\n",
    "    'pizza': {'price': 10, 'quantity': 20},\n",
    "    'drink': {'price': 1, 'quantity': 15}\n",
    "}\n",
    "\n",
    "mc = FastFood('McDonalds', 'Fast Food', menu, True)\n",
    "\n",
    "print(mc.order('burger', 5)) # 25\n",
    "print(mc.order('burger', 15)) # Requested quantity not available\n",
    "print(mc.order('soup', 5)) # Dish not available"
   ]
  },
  {
   "cell_type": "markdown",
   "metadata": {},
   "source": [
    "3. (Optional) A Bank\n",
    "    1. Using the Account class as a base class, write two derived classes called SavingsAccount and CurrentAccount. A SavingsAccount object, in addition to the attributes of an Account object, should have an interest attribute and a method which adds interest to the account. A CurrentAccount object, in addition to the attributes of an Account object, should have an overdraft limit attribute.\n",
    "\n",
    "    2. Now create a Bank class, an object of which contains an array of Account objects. Accounts in the array could be instances of the Account class, the SavingsAccount class, or the CurrentAccount class. Create some test accounts (some of each type).\n",
    "\n",
    "    3. Write an update method in the Bank class. It iterates through each account, updating it in the following ways: Savings accounts get interest added (via the method you already wrote); CurrentAccounts get a letter sent if they are in overdraft. (use print to 'send' the letter).\n",
    "\n",
    "    4. The Bank class requires methods for opening and closing accounts, and for paying a dividend into each account."
   ]
  },
  {
   "cell_type": "code",
   "execution_count": 59,
   "metadata": {},
   "outputs": [],
   "source": [
    "class Account:\n",
    "    def __init__(self, balance, account_number):\n",
    "        self._balance = balance\n",
    "        self._account_number = account_number\n",
    "    \n",
    "    @classmethod\n",
    "    def create_account(cls, account_number):\n",
    "        return cls(0.0, account_number)\n",
    "    \n",
    "    def deposit(self, amount):\n",
    "        if amount > 0:\n",
    "            self._balance += amount\n",
    "        else:\n",
    "            raise ValueError('Amount must be positive')\n",
    "\n",
    "    def withdraw(self, amount):\n",
    "        if amount > 0:\n",
    "            self._balance -= amount\n",
    "        else:\n",
    "            raise ValueError('Amount must be positive')\n",
    "\n",
    "    def get_balance(self):\n",
    "        return self._balance\n",
    "    \n",
    "    def get_account_number(self):\n",
    "        return self._account_number\n",
    "    \n",
    "    def __str__(self):\n",
    "        return f'Account number: {self._account_number}, balance: {self._balance}'\n",
    "\n"
   ]
  },
  {
   "cell_type": "code",
   "execution_count": 70,
   "metadata": {},
   "outputs": [],
   "source": [
    "\n",
    "class SavingsAccount(Account):\n",
    "    def __init__(self, balance, account_number, interest_rate):\n",
    "        super().__init__(account_number, balance)\n",
    "        self.interest_rate = interest_rate\n",
    "\n",
    "    def add_interest(self):\n",
    "        interest = self.balance * self.interest_rate\n",
    "        self.balance += interest\n",
    "\n",
    "class CurrentAccount(Account):\n",
    "    def __init__(self, balance, account_number, overdraft_limit):\n",
    "        super().__init__(account_number, balance)\n",
    "        self.overdraft_limit = overdraft_limit\n",
    "\n",
    "    def send_overdraft_letter(self):\n",
    "        if self.balance < 0:\n",
    "            print(f\"Overdraft letter sent to account {self.account_number}\")\n",
    "\n"
   ]
  },
  {
   "cell_type": "code",
   "execution_count": 71,
   "metadata": {},
   "outputs": [],
   "source": [
    "class Bank:\n",
    "    def __init__(self):\n",
    "        self.accounts = []\n",
    "\n",
    "    def add_account(self, account):\n",
    "        self.accounts.append(account)\n",
    "\n",
    "    def display_accounts(self):\n",
    "        for account in self.accounts:\n",
    "            account.display_balance()\n",
    "\n",
    "    def update_accounts(self):\n",
    "        for account in self.accounts:\n",
    "            if isinstance(account, SavingsAccount):\n",
    "                account.add_interest()\n",
    "            elif isinstance(account, CurrentAccount):\n",
    "                account.send_overdraft_letter()\n",
    "\n",
    "    def open_account(self, account):\n",
    "        self.add_account(account)\n",
    "        print(f\"Account {account.account_number} opened.\")\n",
    "\n",
    "    def close_account(self, account_number):\n",
    "        for account in self.accounts:\n",
    "            if account.account_number == account_number:\n",
    "                self.accounts.remove(account)\n",
    "                print(f\"Account {account_number} closed.\")\n",
    "                return\n",
    "        print(f\"Account {account_number} not found.\")\n",
    "\n",
    "    def pay_dividend(self, dividend):\n",
    "        for account in self.accounts:\n",
    "            account.balance += dividend\n",
    "            print(f\"Dividend paid into account {account.account_number}. New balance: {account.balance}\")\n"
   ]
  },
  {
   "cell_type": "code",
   "execution_count": 72,
   "metadata": {},
   "outputs": [
    {
     "name": "stdout",
     "output_type": "stream",
     "text": [
      "Account 1001 opened.\n",
      "Account 2001 opened.\n",
      "\n",
      "Initial account balances:\n",
      "Account 1001 balance: 10000\n",
      "Account 2001 balance: 8000\n",
      "\n",
      "After updating accounts:\n",
      "Account 1001 balance: 10500.0\n",
      "Account 2001 balance: 8000\n",
      "Account 1001 closed.\n",
      "Dividend paid into account 2001. New balance: 9000\n",
      "Account 2001 balance: 9000\n"
     ]
    }
   ],
   "source": [
    "#Testing \n",
    "savings1 = SavingsAccount(10000, 1001, 0.05)\n",
    "current1 = CurrentAccount(8000, 2001, 2000)\n",
    "\n",
    "# Creating a Bank object and adding accounts to it\n",
    "bank1 = Bank()\n",
    "bank1.open_account(savings1)\n",
    "bank1.open_account(current1)\n",
    "\n",
    "# Displaying account balances through the Bank object\n",
    "print(\"\\nInitial account balances:\")\n",
    "bank1.display_accounts()\n",
    "\n",
    "# Updating accounts and displaying balances\n",
    "print(\"\\nAfter updating accounts:\")\n",
    "bank1.update_accounts()\n",
    "bank1.display_accounts()\n",
    "\n",
    "# Closing an account\n",
    "bank1.close_account(1001)\n",
    "\n",
    "# Paying dividend into accounts\n",
    "bank1.pay_dividend(1000)\n",
    "bank1.display_accounts()"
   ]
  },
  {
   "cell_type": "code",
   "execution_count": 53,
   "metadata": {},
   "outputs": [
    {
     "ename": "AttributeError",
     "evalue": "'SavingsAccount' object has no attribute 'account_number'",
     "output_type": "error",
     "traceback": [
      "\u001b[0;31m---------------------------------------------------------------------------\u001b[0m",
      "\u001b[0;31mAttributeError\u001b[0m                            Traceback (most recent call last)",
      "\u001b[1;32m/Users/dariyab/Desktop/projector/Lesson_15/lesson14_hw.ipynb Cell 13\u001b[0m line \u001b[0;36m2\n\u001b[1;32m      <a href='vscode-notebook-cell:/Users/dariyab/Desktop/projector/Lesson_15/lesson14_hw.ipynb#X25sZmlsZQ%3D%3D?line=0'>1</a>\u001b[0m savings1 \u001b[39m=\u001b[39m SavingsAccount(\u001b[39m10000\u001b[39m, \u001b[39m1001\u001b[39m, \u001b[39m0.05\u001b[39m)\n\u001b[0;32m----> <a href='vscode-notebook-cell:/Users/dariyab/Desktop/projector/Lesson_15/lesson14_hw.ipynb#X25sZmlsZQ%3D%3D?line=1'>2</a>\u001b[0m bank1\u001b[39m.\u001b[39;49mopen_account(savings1)\n",
      "\u001b[1;32m/Users/dariyab/Desktop/projector/Lesson_15/lesson14_hw.ipynb Cell 13\u001b[0m line \u001b[0;36m2\n\u001b[1;32m     <a href='vscode-notebook-cell:/Users/dariyab/Desktop/projector/Lesson_15/lesson14_hw.ipynb#X25sZmlsZQ%3D%3D?line=24'>25</a>\u001b[0m \u001b[39mdef\u001b[39;00m \u001b[39mopen_account\u001b[39m(\u001b[39mself\u001b[39m, account):\n\u001b[1;32m     <a href='vscode-notebook-cell:/Users/dariyab/Desktop/projector/Lesson_15/lesson14_hw.ipynb#X25sZmlsZQ%3D%3D?line=25'>26</a>\u001b[0m     \u001b[39mself\u001b[39m\u001b[39m.\u001b[39madd_account(account)\n\u001b[0;32m---> <a href='vscode-notebook-cell:/Users/dariyab/Desktop/projector/Lesson_15/lesson14_hw.ipynb#X25sZmlsZQ%3D%3D?line=26'>27</a>\u001b[0m     \u001b[39mprint\u001b[39m(\u001b[39mf\u001b[39m\u001b[39m\"\u001b[39m\u001b[39mAccount \u001b[39m\u001b[39m{\u001b[39;00maccount\u001b[39m.\u001b[39;49maccount_number\u001b[39m}\u001b[39;00m\u001b[39m opened.\u001b[39m\u001b[39m\"\u001b[39m)\n",
      "\u001b[0;31mAttributeError\u001b[0m: 'SavingsAccount' object has no attribute 'account_number'"
     ]
    }
   ],
   "source": [
    "savings1 = SavingsAccount(10000, 1001, 0.05)\n",
    "bank1.open_account(savings1)"
   ]
  },
  {
   "cell_type": "code",
   "execution_count": 58,
   "metadata": {},
   "outputs": [
    {
     "ename": "AttributeError",
     "evalue": "'CurrentAccount' object has no attribute 'account_number'",
     "output_type": "error",
     "traceback": [
      "\u001b[0;31m---------------------------------------------------------------------------\u001b[0m",
      "\u001b[0;31mAttributeError\u001b[0m                            Traceback (most recent call last)",
      "\u001b[1;32m/Users/dariyab/Desktop/projector/Lesson_15/lesson14_hw.ipynb Cell 14\u001b[0m line \u001b[0;36m2\n\u001b[1;32m      <a href='vscode-notebook-cell:/Users/dariyab/Desktop/projector/Lesson_15/lesson14_hw.ipynb#X26sZmlsZQ%3D%3D?line=0'>1</a>\u001b[0m current1 \u001b[39m=\u001b[39m CurrentAccount(\u001b[39m8000\u001b[39m, \u001b[39m2001\u001b[39m, \u001b[39m2000\u001b[39m)\n\u001b[0;32m----> <a href='vscode-notebook-cell:/Users/dariyab/Desktop/projector/Lesson_15/lesson14_hw.ipynb#X26sZmlsZQ%3D%3D?line=1'>2</a>\u001b[0m bank1\u001b[39m.\u001b[39;49mopen_account(current1)\n",
      "\u001b[1;32m/Users/dariyab/Desktop/projector/Lesson_15/lesson14_hw.ipynb Cell 14\u001b[0m line \u001b[0;36m2\n\u001b[1;32m     <a href='vscode-notebook-cell:/Users/dariyab/Desktop/projector/Lesson_15/lesson14_hw.ipynb#X26sZmlsZQ%3D%3D?line=24'>25</a>\u001b[0m \u001b[39mdef\u001b[39;00m \u001b[39mopen_account\u001b[39m(\u001b[39mself\u001b[39m, account):\n\u001b[1;32m     <a href='vscode-notebook-cell:/Users/dariyab/Desktop/projector/Lesson_15/lesson14_hw.ipynb#X26sZmlsZQ%3D%3D?line=25'>26</a>\u001b[0m     \u001b[39mself\u001b[39m\u001b[39m.\u001b[39madd_account(account)\n\u001b[0;32m---> <a href='vscode-notebook-cell:/Users/dariyab/Desktop/projector/Lesson_15/lesson14_hw.ipynb#X26sZmlsZQ%3D%3D?line=26'>27</a>\u001b[0m     \u001b[39mprint\u001b[39m(\u001b[39mf\u001b[39m\u001b[39m\"\u001b[39m\u001b[39mAccount \u001b[39m\u001b[39m{\u001b[39;00maccount\u001b[39m.\u001b[39;49maccount_number\u001b[39m}\u001b[39;00m\u001b[39m opened.\u001b[39m\u001b[39m\"\u001b[39m)\n",
      "\u001b[0;31mAttributeError\u001b[0m: 'CurrentAccount' object has no attribute 'account_number'"
     ]
    }
   ],
   "source": [
    "current1 = CurrentAccount(8000, 2001, 2000)\n",
    "bank1.open_account(current1)"
   ]
  },
  {
   "cell_type": "code",
   "execution_count": 63,
   "metadata": {},
   "outputs": [
    {
     "name": "stdout",
     "output_type": "stream",
     "text": [
      "Account 2001 opened.\n",
      "Account 3001 opened.\n",
      "Account 2002 opened.\n",
      "Account 3002 opened.\n",
      "\n",
      "Initial account balances:\n",
      "Account 2001 balance: 10000\n",
      "Account 3001 balance: 8000\n",
      "Account 2002 balance: 12000\n",
      "Account 3002 balance: -500\n",
      "\n",
      "After updating accounts:\n",
      "Interest added to account 2001. New balance: 10500.0\n",
      "Interest added to account 2002. New balance: 12480.0\n",
      "Overdraft letter sent to account 3002\n",
      "Account 2001 balance: 10500.0\n",
      "Account 3001 balance: 8000\n",
      "Account 2002 balance: 12480.0\n",
      "Account 3002 balance: -500\n",
      "Account 3001 closed.\n",
      "Dividend paid into account 2001. New balance: 11500.0\n",
      "Dividend paid into account 2002. New balance: 13480.0\n",
      "Dividend paid into account 3002. New balance: 500\n",
      "Account 2001 balance: 11500.0\n",
      "Account 2002 balance: 13480.0\n",
      "Account 3002 balance: 500\n"
     ]
    }
   ],
   "source": [
    "class Account:\n",
    "    def __init__(self, account_number, balance):\n",
    "        self.account_number = account_number\n",
    "        self.balance = balance\n",
    "\n",
    "    def display_balance(self):\n",
    "        print(f\"Account {self.account_number} balance: {self.balance}\")\n",
    "\n",
    "\n"
   ]
  },
  {
   "cell_type": "code",
   "execution_count": null,
   "metadata": {},
   "outputs": [],
   "source": [
    "\n",
    "menu =  {\n",
    "    'burger': {'price': 5, 'quantity': 10},\n",
    "    'pizza': {'price': 10, 'quantity': 20},\n",
    "    'drink': {'price': 1, 'quantity': 15}\n",
    "}\n",
    "\n",
    "mc = FastFood('McDonalds', 'Fast Food', menu, True)\n",
    "\n",
    "print(mc.order('burger', 5)) # 25\n",
    "print(mc.order('burger', 15)) # Requested quantity not available\n",
    "print(mc.order('soup', 5)) # Dish not available"
   ]
  },
  {
   "cell_type": "code",
   "execution_count": 34,
   "metadata": {},
   "outputs": [],
   "source": []
  },
  {
   "cell_type": "code",
   "execution_count": 31,
   "metadata": {},
   "outputs": [
    {
     "ename": "IndentationError",
     "evalue": "unexpected indent (2723264.py, line 2)",
     "output_type": "error",
     "traceback": [
      "\u001b[0;36m  Cell \u001b[0;32mIn[31], line 2\u001b[0;36m\u001b[0m\n\u001b[0;31m    def update(self, type, interest):\u001b[0m\n\u001b[0m    ^\u001b[0m\n\u001b[0;31mIndentationError\u001b[0m\u001b[0;31m:\u001b[0m unexpected indent\n"
     ]
    }
   ],
   "source": [
    " @classmethod\n",
    "    def update(self, type, interest): \n",
    "        if type == 'savings': \n",
    "            self.interest = interest\n",
    "            return add_interest(self, interest)\n",
    "        else: \n",
    "            return 'Work harder'\n",
    "       # elif type == 'current': \n",
    "            \n",
    "       #     self.overdraft_limit < 0 \n",
    "       #     return CurrentAccount(Account)\n",
    "       # else: \n",
    "       #     raise TypeError('Account type must be either savings or current')\n",
    "    \n",
    "   # def update(self, type): \n",
    "   #     if type == 'savings': \n",
    "    #        return add_interest()\n",
    "        "
   ]
  },
  {
   "cell_type": "code",
   "execution_count": 36,
   "metadata": {},
   "outputs": [
    {
     "name": "stdout",
     "output_type": "stream",
     "text": [
      "Account number: 123, balance: 4000\n"
     ]
    },
    {
     "ename": "AttributeError",
     "evalue": "type object 'Bank' has no attribute 'add_interest'",
     "output_type": "error",
     "traceback": [
      "\u001b[0;31m---------------------------------------------------------------------------\u001b[0m",
      "\u001b[0;31mAttributeError\u001b[0m                            Traceback (most recent call last)",
      "\u001b[1;32m/Users/dariyab/Desktop/projector/Lesson_15/lesson14_hw.ipynb Cell 15\u001b[0m line \u001b[0;36m3\n\u001b[1;32m      <a href='vscode-notebook-cell:/Users/dariyab/Desktop/projector/Lesson_15/lesson14_hw.ipynb#X21sZmlsZQ%3D%3D?line=0'>1</a>\u001b[0m test_account2 \u001b[39m=\u001b[39m Bank(\u001b[39m4000\u001b[39m,\u001b[39m123\u001b[39m,\u001b[39m'\u001b[39m\u001b[39msavings\u001b[39m\u001b[39m'\u001b[39m,\u001b[39m40\u001b[39m,\u001b[39mNone\u001b[39;00m)\n\u001b[1;32m      <a href='vscode-notebook-cell:/Users/dariyab/Desktop/projector/Lesson_15/lesson14_hw.ipynb#X21sZmlsZQ%3D%3D?line=1'>2</a>\u001b[0m \u001b[39mprint\u001b[39m(test_account2)\n\u001b[0;32m----> <a href='vscode-notebook-cell:/Users/dariyab/Desktop/projector/Lesson_15/lesson14_hw.ipynb#X21sZmlsZQ%3D%3D?line=2'>3</a>\u001b[0m test_account2\u001b[39m.\u001b[39;49mupdate(\u001b[39m'\u001b[39;49m\u001b[39msavings\u001b[39;49m\u001b[39m'\u001b[39;49m,\u001b[39m40\u001b[39;49m,\u001b[39mNone\u001b[39;49;00m)\n",
      "\u001b[1;32m/Users/dariyab/Desktop/projector/Lesson_15/lesson14_hw.ipynb Cell 15\u001b[0m line \u001b[0;36m1\n\u001b[1;32m     <a href='vscode-notebook-cell:/Users/dariyab/Desktop/projector/Lesson_15/lesson14_hw.ipynb#X21sZmlsZQ%3D%3D?line=10'>11</a>\u001b[0m \u001b[39mself\u001b[39m\u001b[39m.\u001b[39minterest \u001b[39m=\u001b[39m interest\n\u001b[1;32m     <a href='vscode-notebook-cell:/Users/dariyab/Desktop/projector/Lesson_15/lesson14_hw.ipynb#X21sZmlsZQ%3D%3D?line=11'>12</a>\u001b[0m \u001b[39mself\u001b[39m\u001b[39m.\u001b[39moverdraft_limit \u001b[39m=\u001b[39m \u001b[39mNone\u001b[39;00m\n\u001b[0;32m---> <a href='vscode-notebook-cell:/Users/dariyab/Desktop/projector/Lesson_15/lesson14_hw.ipynb#X21sZmlsZQ%3D%3D?line=12'>13</a>\u001b[0m \u001b[39mreturn\u001b[39;00m \u001b[39mself\u001b[39;49m\u001b[39m.\u001b[39;49madd_interest()\n",
      "\u001b[0;31mAttributeError\u001b[0m: type object 'Bank' has no attribute 'add_interest'"
     ]
    }
   ],
   "source": [
    "test_account2 = Bank(4000,123,'savings',40,None)\n",
    "print(test_account2)\n",
    "test_account2.update('savings',40,None)\n"
   ]
  },
  {
   "cell_type": "markdown",
   "metadata": {},
   "source": [
    "    3. Write an update method in the Bank class. It iterates through each account, updating it in the following ways: Savings accounts get interest added (via the method you already wrote); CurrentAccounts get a letter sent if they are in overdraft. (use print to 'send' the letter)."
   ]
  },
  {
   "cell_type": "code",
   "execution_count": null,
   "metadata": {},
   "outputs": [],
   "source": [
    "class Restaurant:\n",
    "    def __init__(self, name, cuisine, menu):\n",
    "        self.name = name \n",
    "        self.cuisine = cuisine\n",
    "        self.menu = menu\n",
    "\n",
    "class FastFood(Restaurant):\n",
    "    def __init__(self, name, cuisine, menu, drive_thru): \n",
    "        super().__init__(name, cuisine, menu)\n",
    "        self.drive_thru = drive_thru\n",
    "    \n",
    "    def order(self, name, quant): \n",
    "        if name in menu:\n",
    "\n",
    "            if quant > menu[name]['quantity']: \n",
    "                print('Requested quantity not available')\n",
    "            else: \n",
    "                total_cost = menu[name]['price']*quant   \n",
    "                menu[name]['quantity'] -= quant #update menu quantities \n",
    "                return total_cost\n",
    "        else: \n",
    "            print(\"This dish is not available\")"
   ]
  }
 ],
 "metadata": {
  "kernelspec": {
   "display_name": "Python 3",
   "language": "python",
   "name": "python3"
  },
  "language_info": {
   "codemirror_mode": {
    "name": "ipython",
    "version": 3
   },
   "file_extension": ".py",
   "mimetype": "text/x-python",
   "name": "python",
   "nbconvert_exporter": "python",
   "pygments_lexer": "ipython3",
   "version": "3.12.0"
  }
 },
 "nbformat": 4,
 "nbformat_minor": 2
}
